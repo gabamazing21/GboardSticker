{
 "cells": [
  {
   "cell_type": "code",
   "execution_count": 2,
   "metadata": {},
   "outputs": [
    {
     "name": "stdout",
     "output_type": "stream",
     "text": [
      "Enter first number: 5\n",
      "Enter second number: 6\n",
      "The sum of input numbers  is:  11.0\n"
     ]
    }
   ],
   "source": [
    "# To AddTwo Number from user input\n",
    "val1=float(input(\"Enter first number: \"))\n",
    "val2= float(input(\"Enter second number: \"))\n",
    "sum = val1 + val2\n",
    "print (\"The sum of input numbers  is: \",sum)"
   ]
  },
  {
   "cell_type": "code",
   "execution_count": 3,
   "metadata": {},
   "outputs": [
    {
     "name": "stdout",
     "output_type": "stream",
     "text": [
      "0b10010\n"
     ]
    }
   ],
   "source": [
    "#Program to add binary Number\n",
    "num1= '00001'\n",
    "num2='10001'\n",
    "sum= bin(int(num1,2)+int(num2,2))\n",
    "print(sum)\n",
    "\n"
   ]
  },
  {
   "cell_type": "code",
   "execution_count": 4,
   "metadata": {},
   "outputs": [
    {
     "name": "stdout",
     "output_type": "stream",
     "text": [
      "Enter the principal56\n",
      "Enter the rate78\n",
      "Enter the Time Taken56\n",
      "Simple Interest is:  2446.08\n"
     ]
    }
   ],
   "source": [
    "#Program to Calculate simple interest from User input\n",
    "P=int(input(\"Enter the principal\"))\n",
    "R=int(input(\"Enter the rate\"))\n",
    "T=int(input(\"Enter the Time Taken\"))\n",
    "SI=(P*R*T)/100\n",
    "print(\"Simple Interest is: \",SI)\n",
    "\n"
   ]
  },
  {
   "cell_type": "code",
   "execution_count": 5,
   "metadata": {},
   "outputs": [
    {
     "name": "stdout",
     "output_type": "stream",
     "text": [
      "Input the value of radius5\n",
      "The Area of the circle : 78.53981633974483\n"
     ]
    }
   ],
   "source": [
    "#Program to calculate Area of a circle\n",
    "import math\n",
    "pi=math.pi\n",
    "r=int(input(\"Input the value of radius\"))\n",
    "A=pi*(r*r)\n",
    "print(\"The Area of the circle :\",A)"
   ]
  },
  {
   "cell_type": "code",
   "execution_count": 6,
   "metadata": {},
   "outputs": [
    {
     "name": "stdout",
     "output_type": "stream",
     "text": [
      "Enter the principal45\n",
      "Enter the rate34\n",
      "Enter the Time Taken67\n",
      "Compound Interest :  14765018797.87928\n"
     ]
    }
   ],
   "source": [
    "#Porgram to Calculate Compound Interest\n",
    "P=int(input(\"Enter the principal\"))\n",
    "R=int(input(\"Enter the rate\"))\n",
    "T=int(input(\"Enter the Time Taken\"))\n",
    "CP=P*(pow((1+R/100),T))\n",
    "print(\"Compound Interest : \",CP)"
   ]
  },
  {
   "cell_type": "code",
   "execution_count": 7,
   "metadata": {},
   "outputs": [
    {
     "name": "stdout",
     "output_type": "stream",
     "text": [
      "The given angle is : 1.5707963267948966\n",
      "sin(X) is : 1.0\n",
      "cos(x) is : 6.123233995736766e-17\n",
      "tan(X) iS : 1.633123935319537e+16\n"
     ]
    }
   ],
   "source": [
    "#Use Of Trig Functions\n",
    "import math\n",
    "angleInDegree = 90\n",
    "angleInRadian=math.radians(angleInDegree)\n",
    "print(\"The given angle is :\",angleInRadian)\n",
    "print('sin(X) is :',math.sin(angleInRadian))\n",
    "print('cos(x) is :',math.cos(angleInRadian))\n",
    "print(\"tan(X) iS :\",math.tan(angleInRadian))\n",
    "\n",
    "\n"
   ]
  },
  {
   "cell_type": "code",
   "execution_count": 8,
   "metadata": {},
   "outputs": [
    {
     "name": "stdout",
     "output_type": "stream",
     "text": [
      "What is the celsius temperature ? 34\n",
      "The temperature is  93.2 degrees Fahrenheit. \n"
     ]
    }
   ],
   "source": [
    "#Program to convert Degree To fahreint\n",
    "def main():\n",
    "    celsius=eval(input(\"What is the celsius temperature ? \"))\n",
    "    fahrenheit = 9/5 * celsius +32\n",
    "    print(\"The temperature is \",fahrenheit, \"degrees Fahrenheit. \")\n",
    "if __name__=='__main__':\n",
    "    main()\n",
    "\n"
   ]
  },
  {
   "cell_type": "code",
   "execution_count": 9,
   "metadata": {},
   "outputs": [
    {
     "name": "stdout",
     "output_type": "stream",
     "text": [
      "Input the temperature in degrees 50\n",
      "The temperature is 122.0 degrees fahrenheit.\n",
      "It's really hot out there, be careful!\n"
     ]
    }
   ],
   "source": [
    "#Program to Warn Heat/COld Temp\n",
    "def temp_warn():\n",
    "        celsius= eval (input(\"Input the temperature in degrees \")) \n",
    "        fahrenheit = 9/5 * celsius +32 \n",
    "        print(\"The temperature is\", fahrenheit, \"degrees fahrenheit.\")\n",
    "        if fahrenheit >=90:\n",
    "            print(\"It's really hot out there, be careful!\")\n",
    "        if fahrenheit <=30:\n",
    "            print(\"Brrrrr. Be sure to dress warmly\")\n",
    "if __name__=='__main__':\n",
    "    temp_warn()"
   ]
  },
  {
   "cell_type": "code",
   "execution_count": 10,
   "metadata": {},
   "outputs": [
    {
     "name": "stdout",
     "output_type": "stream",
     "text": [
      "Enter yes or no :yes\n",
      "affirmative\n"
     ]
    }
   ],
   "source": [
    "#Program to test User Response on Decision Making\n",
    "def ask_ok(prompt):\n",
    "    OK = input(prompt)\n",
    "    OK = OK.lower()\n",
    "    if OK in ['y','ye','yes']:\n",
    "        return \"affirmative\"\n",
    "    if OK in ['n','no','nop','nope']:\n",
    "        return \"Negatory\"\n",
    "    if OK==\"\":\n",
    "        return \"Cat got your tongues\"\n",
    "    if OK:\n",
    "        return \"Your speaking gibberish, my friend\"\n",
    "    \n",
    "def main():\n",
    "    print(ask_ok(\"Enter yes or no :\"))\n",
    "if __name__=='__main__':\n",
    "    main()\n",
    "    "
   ]
  },
  {
   "cell_type": "code",
   "execution_count": 11,
   "metadata": {},
   "outputs": [
    {
     "name": "stdout",
     "output_type": "stream",
     "text": [
      "1050.0\n"
     ]
    }
   ],
   "source": [
    "#Conditional Program\n",
    "def addInterest(balance, rate):\n",
    "    newBalance = balance *(1+rate) \n",
    "    return newBalance\n",
    "def test():\n",
    "    amount = 1000\n",
    "    rate = 0.05\n",
    "    amount = addInterest(amount,rate)\n",
    "    print(amount)\n",
    "if __name__=='__main__':\n",
    "    test()"
   ]
  },
  {
   "cell_type": "code",
   "execution_count": 12,
   "metadata": {},
   "outputs": [
    {
     "name": "stdout",
     "output_type": "stream",
     "text": [
      "This program find solution to quadratic equation\n",
      " \n",
      " Please enter the coefficient (a, b, c): 1,-5,-10\n",
      "\n",
      " The solutions are: 6.531128874149275 -1.5311288741492746\n"
     ]
    }
   ],
   "source": [
    "#A program that computes the real roots of a quadratic equation.\n",
    "#    Note: This program crashes if the equation has no real roots.\n",
    "import math\n",
    "def main():\n",
    "    print(\"This program find solution to quadratic equation\")\n",
    "    a ,b , c= eval(input(\" \\n Please enter the coefficient (a, b, c): \"))\n",
    "    \n",
    "    discrim = b*b - 4 * a * c\n",
    "    \n",
    "    if discrim > 0:\n",
    "        \n",
    "        discRoot = math.sqrt(b*b - 4 * a * c)\n",
    "        \n",
    "        root1 = (-b + discRoot ) / (2 * a)\n",
    "        \n",
    "        root2 = (-b - discRoot ) / (2 * a)\n",
    "        \n",
    "        print(\"\\n The solutions are:\", root1 , root2)\n",
    "        \n",
    "    elif discrim == 0 :\n",
    "            root = -b / (2 * a)\n",
    "            print(\"\\nThere is a double root at\", root)\n",
    "    else :\n",
    "            discRoot = math.sqrt(b*b - 4 * a * c)\n",
    "            root1 = (-b + discRoot ) / (2 * a)\n",
    "            root2 = (-b - discRoot ) / (2 * a)\n",
    "            print(\"\\n The solutions are:\", root1 , root2)\n",
    "            print(\"\\n The solution has no real root\")\n",
    "            \n",
    "if __name__=='__main__':\n",
    "    main()"
   ]
  },
  {
   "cell_type": "code",
   "execution_count": 21,
   "metadata": {},
   "outputs": [
    {
     "name": "stdout",
     "output_type": "stream",
     "text": [
      "This program find solution to quadratic equation\n",
      "Please enter the coefficients (a, b, c): nmxdjfnjfndj\n",
      "\n",
      "You didn't enter three numbers.\n"
     ]
    }
   ],
   "source": [
    "#A program that computes the real roots of a quadratic equation.\n",
    "#  Note: This is wel protected by excptions handler\n",
    "import math\n",
    "def main():\n",
    "    print(\"This program find solution to quadratic equation\")\n",
    "    \n",
    "    \n",
    "    try:\n",
    "        a, b, c = eval(input(\"Please enter the coefficients (a, b, c): \"))\n",
    "        discRoot = math.sqrt(b*b - 4 * a * c)\n",
    "        root1 = (-b + discRoot ) / (2 * a)\n",
    "    \n",
    "        root2 = (-b - discRoot ) / (2 * a)\n",
    "        \n",
    "        print(\"\\n The solutions are:\", root1 , root2)\n",
    "        \n",
    "    except ValueError as excObj:\n",
    "        if str(excObj)==\"math domain error \":\n",
    "            print(\"No real root\")\n",
    "        else :\n",
    "            print(\"You didn't give me the right number of coefficients.\")\n",
    "    except NameError:\n",
    "        print(\"\\nYou didn't enter three numbers.\")\n",
    "    except TypeError:\n",
    "        print(\"\\nYour inputs were not all numbers.\")\n",
    "    except SytanxError:\n",
    "        print(\"\\nYour input was not in the correct form. Missing comma?\")\n",
    "    except :\n",
    "        print(\"\\nSomething went wrong, sorry!\")\n",
    "    finally:\n",
    "        print(\"Good day\")\n",
    "        \n",
    "            \n",
    "if __name__=='__main__':\n",
    "    main()"
   ]
  },
  {
   "cell_type": "code",
   "execution_count": 24,
   "metadata": {},
   "outputs": [
    {
     "name": "stdout",
     "output_type": "stream",
     "text": [
      "\n",
      " Enter  seperated by comma(a,b): 5,6\n",
      "The lenght of the parabola Segment : 13.669067129685109\n"
     ]
    }
   ],
   "source": [
    "#Assignment Set 2 Question 11\n",
    "import math\n",
    "def Len_Par():\n",
    "    h,b= eval(input(\"\\n Enter  seperated by comma(a,b): \"))\n",
    "    assert h>0\n",
    "    assert b>0\n",
    "    l = math.sqrt(4*h**2+b**2)+(b**2/(2*h))*math.log10((2*h+(math.sqrt(4*h**2+b**2)))/b)\n",
    "    print(\"The lenght of the parabola Segment :\",l)\n",
    "if __name__=='__main__':\n",
    "    Len_Par()\n"
   ]
  },
  {
   "cell_type": "code",
   "execution_count": 25,
   "metadata": {},
   "outputs": [
    {
     "name": "stdout",
     "output_type": "stream",
     "text": [
      "How many numbers we have? 5\n",
      "Enter a number >>4\n",
      "Enter a number >>5\n",
      "Enter a number >>6\n",
      "Enter a number >>7\n",
      "Enter a number >>6\n",
      "\n",
      " The average of number is  5.6\n"
     ]
    }
   ],
   "source": [
    "# A program to find the Average set of numbers\n",
    "# Illustrates counted loop with accumulatorde\n",
    "def main():\n",
    "    n = eval(input(\"How many numbers we have? \"))\n",
    "    sum = 0.0\n",
    "    for i in range(n):\n",
    "        X= eval(input(\"Enter a number >>\"))\n",
    "        sum = sum +X\n",
    "    print(\"\\n The average of number is \", sum/n)\n",
    "main()"
   ]
  },
  {
   "cell_type": "code",
   "execution_count": null,
   "metadata": {},
   "outputs": [],
   "source": [
    "\n",
    "    sum = 0.0\n",
    "    count =0\n",
    "    X = eval(input(\"Enter a number(negative to quite ) >>\"))\n",
    "    while x>=0:\n",
    "        sum = sum + X\n",
    "        count = count+1\n",
    "        moreData= input(\"Do You more numbers(yes or no)?\")\n",
    "    print(\"\\n The average of number is \", sum/n)\n",
    "    "
   ]
  },
  {
   "cell_type": "code",
   "execution_count": null,
   "metadata": {},
   "outputs": [],
   "source": []
  },
  {
   "cell_type": "code",
   "execution_count": null,
   "metadata": {},
   "outputs": [],
   "source": [
    "\n",
    "    sum = 0.0\n",
    "    count =0\n",
    "    X = eval(input(\"Enter a number(negative to quite ) >>\"))\n",
    "    while x>=0:\n",
    "        sum = sum + X\n",
    "        count = count+1\n",
    "        X= input(\"Do You more numbers(yes or no)?\")\n",
    "    print(\"\\n The average of number is \", sum/n)\n",
    "    "
   ]
  },
  {
   "cell_type": "code",
   "execution_count": 4,
   "metadata": {},
   "outputs": [
    {
     "name": "stdout",
     "output_type": "stream",
     "text": [
      "Enter number of rows: 4\n",
      "                  1 \n",
      "               1      1 \n",
      "            1      2      1 \n",
      "         1      3      3      1 \n"
     ]
    }
   ],
   "source": [
    "#Set 3 question 11\n",
    "n=int(input(\"Enter number of rows: \"))\n",
    "a=[]\n",
    "for i in range(n):\n",
    "    a.append([])\n",
    "    a[i].append(1)\n",
    "    for j in range(1,i):\n",
    "        a[i].append(a[i-1][j-1]+a[i-1][j])\n",
    "    if(n!=0):\n",
    "        a[i].append(1)\n",
    "for i in range(n):\n",
    "    print(\"   \"*(n-i),end=\" \",sep=\" \")\n",
    "    for j in range(0,i+1):\n",
    "        print('{0:6}'.format(a[i][j]),end=\" \",sep=\" \")\n",
    "    print()"
   ]
  },
  {
   "cell_type": "code",
   "execution_count": 17,
   "metadata": {},
   "outputs": [
    {
     "name": "stdout",
     "output_type": "stream",
     "text": [
      " sequence of number with seprated commas(a,b,c,d,e,f)1,2,3,4,5,6\n",
      "['1', '2', '3', '4', '5', '6']\n"
     ]
    }
   ],
   "source": [
    "#Set 4 questions 3\n",
    "a,b,c,d,e,f= eval(input(\" sequence of number with seprated commas(a,b,c,d,e,f)\"))\n",
    "num_seq=[]\n",
    "num_seq.extend([a,b,c,d,e,f])\n",
    "x=num_seq\n",
    "x=[str(i) for i in x]\n",
    "print(x)\n"
   ]
  },
  {
   "cell_type": "code",
   "execution_count": 15,
   "metadata": {},
   "outputs": [
    {
     "name": "stdout",
     "output_type": "stream",
     "text": [
      "['1.5', '2.5', '3.5', '4.55', '5.6']\n"
     ]
    }
   ],
   "source": [
    "x = [1.5, 2.5, 3.5, 4.55, 5.6]\n",
    "x = [str(i) for i in x]\n",
    "print(x)"
   ]
  },
  {
   "cell_type": "code",
   "execution_count": 14,
   "metadata": {},
   "outputs": [
    {
     "name": "stdout",
     "output_type": "stream",
     "text": [
      "Enter a number >>10\n",
      "Enter a number >>14\n",
      "Enter a number >>8\n",
      "Enter a number >>7\n",
      "Enter a number >>2\n",
      "Enter a number >>9\n",
      "Enter a number >>-1\n"
     ]
    },
    {
     "ename": "AssertionError",
     "evalue": "",
     "output_type": "error",
     "traceback": [
      "\u001b[0;31m---------------------------------------------------------------------------\u001b[0m",
      "\u001b[0;31mAssertionError\u001b[0m                            Traceback (most recent call last)",
      "\u001b[0;32m<ipython-input-14-f079a61d7e19>\u001b[0m in \u001b[0;36m<module>\u001b[0;34m\u001b[0m\n\u001b[1;32m     11\u001b[0m         \u001b[0mnumber\u001b[0m \u001b[0;34m=\u001b[0m \u001b[0meval\u001b[0m\u001b[0;34m(\u001b[0m\u001b[0minput\u001b[0m\u001b[0;34m(\u001b[0m\u001b[0;34m\"Enter a number >>\"\u001b[0m\u001b[0;34m)\u001b[0m\u001b[0;34m)\u001b[0m\u001b[0;34m\u001b[0m\u001b[0;34m\u001b[0m\u001b[0m\n\u001b[1;32m     12\u001b[0m         \u001b[0mn\u001b[0m \u001b[0;34m=\u001b[0m \u001b[0mn\u001b[0m \u001b[0;34m+\u001b[0m \u001b[0;36m1\u001b[0m\u001b[0;34m\u001b[0m\u001b[0;34m\u001b[0m\u001b[0m\n\u001b[0;32m---> 13\u001b[0;31m         \u001b[0;32massert\u001b[0m \u001b[0mnumber\u001b[0m\u001b[0;34m>\u001b[0m\u001b[0;36m0\u001b[0m\u001b[0;34m\u001b[0m\u001b[0;34m\u001b[0m\u001b[0m\n\u001b[0m\u001b[1;32m     14\u001b[0m         \u001b[0msum\u001b[0m\u001b[0;34m=\u001b[0m\u001b[0;36m0\u001b[0m\u001b[0;34m+\u001b[0m\u001b[0mnumber\u001b[0m\u001b[0;34m\u001b[0m\u001b[0;34m\u001b[0m\u001b[0m\n\u001b[1;32m     15\u001b[0m         \u001b[0mmean\u001b[0m\u001b[0;34m.\u001b[0m\u001b[0mappend\u001b[0m\u001b[0;34m(\u001b[0m\u001b[0mnumber\u001b[0m\u001b[0;34m)\u001b[0m\u001b[0;34m\u001b[0m\u001b[0;34m\u001b[0m\u001b[0m\n",
      "\u001b[0;31mAssertionError\u001b[0m: "
     ]
    }
   ],
   "source": [
    "#Set 3 question 14\n",
    "import numpy as np\n",
    "n=0\n",
    "mean=[]\n",
    "\n",
    "def geo_mean(iterable):\n",
    "    a = np.array(iterable)\n",
    "    return a.prod()**(1.0/len(a))\n",
    "\n",
    "while n<7:\n",
    "        number = eval(input(\"Enter a number >>\"))\n",
    "        n = n + 1\n",
    "        assert number>0\n",
    "        sum=0+number\n",
    "        mean.append(number)\n",
    "        \n",
    "        \n",
    "        \n",
    "if __name__ == '__main__':       \n",
    "    print(\"\\n The arithmetic_mean and geometric mean is : \",sum/7   , geo_mean(mean) )\n",
    "        "
   ]
  },
  {
   "cell_type": "code",
   "execution_count": null,
   "metadata": {},
   "outputs": [],
   "source": []
  }
 ],
 "metadata": {
  "kernelspec": {
   "display_name": "Python 3",
   "language": "python",
   "name": "python3"
  },
  "language_info": {
   "codemirror_mode": {
    "name": "ipython",
    "version": 3
   },
   "file_extension": ".py",
   "mimetype": "text/x-python",
   "name": "python",
   "nbconvert_exporter": "python",
   "pygments_lexer": "ipython3",
   "version": "3.7.1"
  }
 },
 "nbformat": 4,
 "nbformat_minor": 2
}
