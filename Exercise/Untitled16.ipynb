{
 "cells": [
  {
   "cell_type": "code",
   "execution_count": 1,
   "metadata": {},
   "outputs": [
    {
     "name": "stdout",
     "output_type": "stream",
     "text": [
      "Enter (a,b,c) seperated by comma4,-5,6\n",
      "Wrong input please try again\n"
     ]
    }
   ],
   "source": [
    "import math\n",
    "def Hero_formula():\n",
    "    a,b,c = eval(input(\"Enter (a,b,c) seperated by comma\"))\n",
    "    \n",
    "    if ((a>0) and (b>0) and (c>0)) and ((a+b>c)and (a+c>b) and (b+c>a)):\n",
    "        s = (a + b + c) / 2\n",
    "        area = math.sqrt(s * (s - a) * (s - b) * (s - c))\n",
    "        print(\"Area of this triangle with this side is :\", area)\n",
    "    else:\n",
    "        print(\"Wrong input please try again\")\n",
    "Hero_formula()"
   ]
  },
  {
   "cell_type": "code",
   "execution_count": 3,
   "metadata": {},
   "outputs": [
    {
     "name": "stdout",
     "output_type": "stream",
     "text": [
      "variable\n"
     ]
    }
   ],
   "source": [
    "def a():\n",
    "\ta.i=\"variable\" \n",
    "\t\n",
    "def b():\n",
    "\ta()\n",
    "\tprint(a.i)\n",
    "b()"
   ]
  },
  {
   "cell_type": "code",
   "execution_count": 9,
   "metadata": {},
   "outputs": [
    {
     "ename": "SyntaxError",
     "evalue": "Missing parentheses in call to 'print'. Did you mean print(\"Calculate GPA:\")? (<ipython-input-9-b41d79d1f11f>, line 51)",
     "output_type": "error",
     "traceback": [
      "\u001b[0;36m  File \u001b[0;32m\"<ipython-input-9-b41d79d1f11f>\"\u001b[0;36m, line \u001b[0;32m51\u001b[0m\n\u001b[0;31m    print \"Calculate GPA:\"\u001b[0m\n\u001b[0m                         ^\u001b[0m\n\u001b[0;31mSyntaxError\u001b[0m\u001b[0;31m:\u001b[0m Missing parentheses in call to 'print'. Did you mean print(\"Calculate GPA:\")?\n"
     ]
    }
   ],
   "source": [
    "class Gpa(object):\n",
    "    # data attributes\n",
    "    \"helps to calculate the Gpa and Cgpa\"\n",
    "    arg1 = None\n",
    "    arg2 = None\n",
    "    subData = None\n",
    "    Scale = None\n",
    "    credits = None\n",
    "    initCourse = 0\n",
    "    initgetCredit = 0\n",
    "    totalCredits = 0\n",
    "    temp = 0\n",
    "\n",
    "    def getCourse(self):\n",
    "        \"get the value of the no of course you registered\"\n",
    "        self.arg1 = input(\"No of course you have registered: \" )\n",
    "        pass\n",
    "    \n",
    "    def getSubject(self,value):\n",
    "        \"get the subject value\"\n",
    "        self.arg2 = value\n",
    "        pass\n",
    "    \n",
    "    def getScale(self):\n",
    "        \"To get the scale value\"\n",
    "        self.Scale = input(\"Enter the Scale value(Either 5 or 10): \" )\n",
    "        pass\n",
    "        \n",
    "        \n",
    "    def getSubjectData(self):\n",
    "        \"get the subject Data in string\"\n",
    "        self.subData = raw_input(\"Enter the grade: \" ) \n",
    "        pass              \n",
    "    def getGradeData(self):\n",
    "        # To calculate grade for two scale,one is for 5.0 and other one for 10.0\n",
    "        if self.Scale == 10:\n",
    "            \n",
    "            grade1 = {'s':10,'a':9,'b':8,'c':7,'d':5,'e':3,'f':0}\n",
    "            x=grade1[self.subData]\n",
    "        \n",
    "        else: #5.0 scale\n",
    "            grade2 = {'a':5,'b':4,'c':3,'d':2,'e':1,'f':0}\n",
    "            x=grade2[self.subData]\n",
    "        return x \n",
    "    def getCredits(self):\n",
    "        \"get credit value\"\n",
    "        self.credits = input(\"Enter the credits for a subject:\"  )\n",
    "        pass\n",
    "    \n",
    "    def gpa(self):\n",
    "        print \"Calculate GPA:\"\n",
    "        sem = raw_input(\"Please Enter Semester: \" )\n",
    "        self.getScale() #input the scale value\n",
    "        if self.Scale == 5 or self.Scale == 10:\n",
    "            self.getCourse()\n",
    "            if self.arg1 >= 2:\n",
    "                self.calculateGpa()\n",
    "            else:\n",
    "                print \"In order to calculate Gpa you schould have atleast 2 subject minimum\"\n",
    "        else:\n",
    "            print \"you have not entered the scale correctly please try again\"\n",
    "        pass\n",
    "                \n",
    "                \n",
    "    def calculateGpa(self):\n",
    "        \"Method to calculate Gpa \"\n",
    "        while self.initCourse!=self.arg1:\n",
    "            self.initCourse=self.initCourse+1\n",
    "            self.getCredits()\n",
    "            self.initgetCredit = self.credits\n",
    "            self.getSubjectData()\n",
    "            #type(self.getSubjectData())\n",
    "            self.temp = self.initgetCredit*self.getGradeData()+self.temp\n",
    "            self.totalCredits=self.totalCredits+self.initgetCredit\n",
    "            \n",
    "        gpa = round((self.temp+.0)/(self.totalCredits+.0),2)\n",
    "        print \"you have registered for total credits:\"+\" \"+str(self.totalCredits)+\" \"+\"and you have acquired GPA:\\\"\"+str(gpa)+\"\\\"\"\n",
    "        pass\n",
    "    \n",
    "    def cgpa(self):\n",
    "        print \"Calculate your cgpa: \"\n",
    "        semesters = input(\"Enter how many semester cgpa has to be found of: \" )\n",
    "        counter = 0\n",
    "        tempInit = 0\n",
    "        tempTotalCredits = 0\n",
    "        self.getScale() #input the scale value\n",
    "        if self.Scale == 5 or self.Scale == 10:\n",
    "            while counter != semesters:\n",
    "                counter = counter+1\n",
    "                print \"Please enter the details of the semester\"+\" \"+str(counter)\n",
    "                self.getCourse()\n",
    "                self.calculateGpa()\n",
    "                tempInit = self.temp+tempInit\n",
    "                tempTotalCredits = tempTotalCredits + self.totalCredits\n",
    "                # re-assigning\n",
    "                self.arg1=0\n",
    "                self.initCourse =0\n",
    "                self.temp=0\n",
    "                self.totalCredits=0\n",
    "                print \"\\n\"\n",
    "                \n",
    "            cgpa = round((tempInit+.0)/(tempTotalCredits+.0),2)\n",
    "            \n",
    "            print (\"you have registered for total credits:\"+\" \"+str(tempTotalCredits)+\" \"+\"and you have acquired CGPA:\\\"\"+str(cgpa)+\"\\\" \" )  \n",
    "        else:\n",
    "            print (\"you have not entered the scale correctly please try again\")\n",
    "        pass\n",
    "\n",
    "\n",
    "if __name__ == '__main__': # main method"
   ]
  },
  {
   "cell_type": "code",
   "execution_count": null,
   "metadata": {},
   "outputs": [],
   "source": []
  }
 ],
 "metadata": {
  "kernelspec": {
   "display_name": "Python 3",
   "language": "python",
   "name": "python3"
  },
  "language_info": {
   "codemirror_mode": {
    "name": "ipython",
    "version": 3
   },
   "file_extension": ".py",
   "mimetype": "text/x-python",
   "name": "python",
   "nbconvert_exporter": "python",
   "pygments_lexer": "ipython3",
   "version": "3.7.1"
  }
 },
 "nbformat": 4,
 "nbformat_minor": 2
}
