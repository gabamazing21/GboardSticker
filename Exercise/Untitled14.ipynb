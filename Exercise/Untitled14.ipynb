{
 "cells": [
  {
   "cell_type": "code",
   "execution_count": 1,
   "metadata": {},
   "outputs": [
    {
     "name": "stdout",
     "output_type": "stream",
     "text": [
      "Enter first number: 10.000\n",
      "Enter second number: 20.78\n",
      "The sum of input numbers  is:  30.78\n"
     ]
    }
   ],
   "source": [
    "#\n",
    "val1=float(input(\"Enter first number: \"))\n",
    "val2= float(input(\"Enter second number: \"))\n",
    "sum = val1 + val2\n",
    "print (\"The sum of input numbers  is: \",sum)"
   ]
  },
  {
   "cell_type": "code",
   "execution_count": 2,
   "metadata": {},
   "outputs": [
    {
     "name": "stdout",
     "output_type": "stream",
     "text": [
      "0b10010\n"
     ]
    }
   ],
   "source": [
    "#Program to add binary Number\n",
    "num1= '00001'\n",
    "num2='10001'\n",
    "sum= bin(int(num1,2)+int(num2,2))\n",
    "print(sum)\n"
   ]
  },
  {
   "cell_type": "code",
   "execution_count": 3,
   "metadata": {},
   "outputs": [
    {
     "name": "stdout",
     "output_type": "stream",
     "text": [
      "Enter the principal30\n",
      "Enter the rate34\n",
      "Enter the Time Taken3\n",
      "Simple Interest is:  30.6\n"
     ]
    }
   ],
   "source": [
    "#Program to Calculate simple interest from User input\n",
    "P=int(input(\"Enter the principal\"))\n",
    "R=int(input(\"Enter the rate\"))\n",
    "T=int(input(\"Enter the Time Taken\"))\n",
    "SI=(P*R*T)/100\n",
    "print(\"Simple Interest is: \",SI)\n"
   ]
  },
  {
   "cell_type": "code",
   "execution_count": 7,
   "metadata": {},
   "outputs": [
    {
     "name": "stdout",
     "output_type": "stream",
     "text": [
      "Input the value of radius45\n",
      "The Area of the circle : 6361.725123519331\n"
     ]
    }
   ],
   "source": [
    "#Program to calculate Area of a circle\n",
    "import math\n",
    "pi=math.pi\n",
    "r=int(input(\"Input the value of radius\"))\n",
    "A=pi*(r*r)\n",
    "print(\"The Area of the circle :\",A)"
   ]
  },
  {
   "cell_type": "code",
   "execution_count": 6,
   "metadata": {},
   "outputs": [
    {
     "name": "stdout",
     "output_type": "stream",
     "text": [
      "Enter the principal45\n",
      "Enter the rate65\n",
      "Enter the Time Taken7\n",
      "Compound Interest :  1498.3046359101559\n"
     ]
    }
   ],
   "source": [
    "#Porgram to Calculate Compound Interest\n",
    "P=int(input(\"Enter the principal\"))\n",
    "R=int(input(\"Enter the rate\"))\n",
    "T=int(input(\"Enter the Time Taken\"))\n",
    "CP=P*(pow((1+R/100),T))\n",
    "print(\"Compound Interest : \",CP)"
   ]
  },
  {
   "cell_type": "code",
   "execution_count": 8,
   "metadata": {},
   "outputs": [
    {
     "name": "stdout",
     "output_type": "stream",
     "text": [
      "The given angle is : 1.5707963267948966\n",
      "sin(X) is : 1.0\n",
      "cos(x) is : 6.123233995736766e-17\n",
      "tan(X) iS : 1.633123935319537e+16\n"
     ]
    }
   ],
   "source": [
    "#Use Of Trig Functions\n",
    "import math\n",
    "angleInDegree = 90\n",
    "angleInRadian=math.radians(angleInDegree)\n",
    "print(\"The given angle is :\",angleInRadian)\n",
    "print('sin(X) is :',math.sin(angleInRadian))\n",
    "print('cos(x) is :',math.cos(angleInRadian))\n",
    "print(\"tan(X) iS :\",math.tan(angleInRadian))\n",
    "\n",
    "\n"
   ]
  },
  {
   "cell_type": "code",
   "execution_count": 28,
   "metadata": {},
   "outputs": [
    {
     "name": "stdout",
     "output_type": "stream",
     "text": [
      "What is the celsius temperature ? 67\n",
      "The temperature is  152.60000000000002 degrees Fahrenheit. \n"
     ]
    }
   ],
   "source": [
    "#Program to convert Degree To fahreint\n",
    "def main():\n",
    "    celsius=eval(input(\"What is the celsius temperature ? \"))\n",
    "    fahrenheit = 9/5 * celsius +32\n",
    "    print(\"The temperature is \",fahrenheit, \"degrees Fahrenheit. \")\n",
    "if __name__=='__main__':\n",
    "    main()\n"
   ]
  },
  {
   "cell_type": "code",
   "execution_count": 18,
   "metadata": {},
   "outputs": [
    {
     "name": "stdout",
     "output_type": "stream",
     "text": [
      "Input the temperature in degrees 50\n",
      "The temperature is 122.0 degrees fahrenheit.\n",
      "It's really hot out there, be careful!\n"
     ]
    }
   ],
   "source": [
    "#Program to Warn Heat/COld Temp\n",
    "def temp_warn():\n",
    "        celsius= eval (input(\"Input the temperature in degrees \")) \n",
    "        fahrenheit = 9/5 * celsius +32 \n",
    "        print(\"The temperature is\", fahrenheit, \"degrees fahrenheit.\")\n",
    "        if fahrenheit >=90:\n",
    "            print(\"It's really hot out there, be careful!\")\n",
    "        if fahrenheit <=30:\n",
    "            print(\"Brrrrr. Be sure to dress warmly\")\n",
    "if __name__=='__main__':\n",
    "    temp_warn()\n"
   ]
  },
  {
   "cell_type": "code",
   "execution_count": 21,
   "metadata": {},
   "outputs": [
    {
     "name": "stdout",
     "output_type": "stream",
     "text": [
      "Enter yes or no :yes\n",
      "affirmative\n"
     ]
    }
   ],
   "source": [
    "#Program to test User Response on Decision Making\n",
    "def ask_ok(prompt):\n",
    "    OK = input(prompt)\n",
    "    OK = OK.lower()\n",
    "    if OK in ['y','ye','yes']:\n",
    "        return \"affirmative\"\n",
    "    if OK in ['n','no','nop','nope']:\n",
    "        return \"Negatory\"\n",
    "    if OK==\"\":\n",
    "        return \"Cat got your tongues\"\n",
    "    if OK:\n",
    "        return \"Your speaking gibberish, my friend\"\n",
    "    \n",
    "def main():\n",
    "    print(ask_ok(\"Enter yes or no :\"))\n",
    "if __name__=='__main__':\n",
    "    main()\n",
    "    "
   ]
  },
  {
   "cell_type": "code",
   "execution_count": 27,
   "metadata": {},
   "outputs": [
    {
     "name": "stdout",
     "output_type": "stream",
     "text": [
      "1050.0\n"
     ]
    }
   ],
   "source": [
    "#Conditional Program\n",
    "def addInterest(balance, rate):\n",
    "    newBalance = balance *(1+rate) \n",
    "    return newBalance\n",
    "def test():\n",
    "    amount = 1000\n",
    "    rate = 0.05\n",
    "    amount = addInterest(amount,rate)\n",
    "    print(amount)\n",
    "if __name__=='__main__':\n",
    "    test()\n",
    "    "
   ]
  },
  {
   "cell_type": "code",
   "execution_count": 57,
   "metadata": {},
   "outputs": [
    {
     "name": "stdout",
     "output_type": "stream",
     "text": [
      "This program find solution to quadratic equation\n",
      " \n",
      " Please enter the coefficient (a, b, c): 1,2,1\n",
      "\n",
      "There is a double root at -1.0\n"
     ]
    }
   ],
   "source": [
    "#A program that computes the real roots of a quadratic equation.\n",
    "#    Note: This program crashes if the equation has no real roots.\n",
    "import math\n",
    "def main():\n",
    "    print(\"This program find solution to quadratic equation\")\n",
    "    a ,b , c= eval(input(\" \\n Please enter the coefficient (a, b, c): \"))\n",
    "    \n",
    "    discrim = b*b - 4 * a * c\n",
    "    \n",
    "    if discrim > 0:\n",
    "        \n",
    "        discRoot = math.sqrt(b*b - 4 * a * c)\n",
    "        \n",
    "        root1 = (-b + discRoot ) / (2 * a)\n",
    "        \n",
    "        root2 = (-b - discRoot ) / (2 * a)\n",
    "        \n",
    "        print(\"\\n The solutions are:\", root1 , root2)\n",
    "        \n",
    "    elif discrim == 0 :\n",
    "            root = -b / (2 * a)\n",
    "            print(\"\\nThere is a double root at\", root)\n",
    "    else :\n",
    "            discRoot = math.sqrt(b*b - 4 * a * c)\n",
    "            root1 = (-b + discRoot ) / (2 * a)\n",
    "            root2 = (-b - discRoot ) / (2 * a)\n",
    "            print(\"\\n The solutions are:\", root1 , root2)\n",
    "            print(\"\\n The solution has no real root\")\n",
    "            \n",
    "if __name__=='__main__':\n",
    "    main()"
   ]
  },
  {
   "cell_type": "code",
   "execution_count": 39,
   "metadata": {},
   "outputs": [
    {
     "name": "stdout",
     "output_type": "stream",
     "text": [
      "This program finds the real solutions to a quadratic\n",
      "\n",
      "Please enter the coefficients (a, b, c): 2,4,6\n"
     ]
    },
    {
     "ename": "ValueError",
     "evalue": "math domain error",
     "output_type": "error",
     "traceback": [
      "\u001b[0;31m---------------------------------------------------------------------------\u001b[0m",
      "\u001b[0;31mValueError\u001b[0m                                Traceback (most recent call last)",
      "\u001b[0;32m<ipython-input-39-899d082a9672>\u001b[0m in \u001b[0;36m<module>\u001b[0;34m\u001b[0m\n\u001b[1;32m      9\u001b[0m     \u001b[0mprint\u001b[0m\u001b[0;34m(\u001b[0m\u001b[0;34m\"\\nThe solutions are:\"\u001b[0m\u001b[0;34m,\u001b[0m \u001b[0mroot1\u001b[0m\u001b[0;34m,\u001b[0m \u001b[0mroot2\u001b[0m\u001b[0;34m)\u001b[0m\u001b[0;34m\u001b[0m\u001b[0;34m\u001b[0m\u001b[0m\n\u001b[1;32m     10\u001b[0m \u001b[0;34m\u001b[0m\u001b[0m\n\u001b[0;32m---> 11\u001b[0;31m \u001b[0mmain\u001b[0m\u001b[0;34m(\u001b[0m\u001b[0;34m)\u001b[0m\u001b[0;34m\u001b[0m\u001b[0;34m\u001b[0m\u001b[0m\n\u001b[0m",
      "\u001b[0;32m<ipython-input-39-899d082a9672>\u001b[0m in \u001b[0;36mmain\u001b[0;34m()\u001b[0m\n\u001b[1;32m      4\u001b[0m     \u001b[0mprint\u001b[0m\u001b[0;34m(\u001b[0m\u001b[0;34m\"This program finds the real solutions to a quadratic\"\u001b[0m\u001b[0;34m)\u001b[0m\u001b[0;34m\u001b[0m\u001b[0;34m\u001b[0m\u001b[0m\n\u001b[1;32m      5\u001b[0m     \u001b[0ma\u001b[0m\u001b[0;34m,\u001b[0m \u001b[0mb\u001b[0m\u001b[0;34m,\u001b[0m \u001b[0mc\u001b[0m \u001b[0;34m=\u001b[0m \u001b[0meval\u001b[0m\u001b[0;34m(\u001b[0m\u001b[0minput\u001b[0m\u001b[0;34m(\u001b[0m\u001b[0;34m\"\\nPlease enter the coefficients (a, b, c): \"\u001b[0m\u001b[0;34m)\u001b[0m\u001b[0;34m)\u001b[0m\u001b[0;34m\u001b[0m\u001b[0;34m\u001b[0m\u001b[0m\n\u001b[0;32m----> 6\u001b[0;31m     \u001b[0mdiscRoot\u001b[0m \u001b[0;34m=\u001b[0m \u001b[0mmath\u001b[0m\u001b[0;34m.\u001b[0m\u001b[0msqrt\u001b[0m\u001b[0;34m(\u001b[0m\u001b[0mb\u001b[0m \u001b[0;34m*\u001b[0m \u001b[0mb\u001b[0m \u001b[0;34m-\u001b[0m \u001b[0;36m4\u001b[0m \u001b[0;34m*\u001b[0m \u001b[0ma\u001b[0m \u001b[0;34m*\u001b[0m \u001b[0mc\u001b[0m\u001b[0;34m)\u001b[0m\u001b[0;34m\u001b[0m\u001b[0;34m\u001b[0m\u001b[0m\n\u001b[0m\u001b[1;32m      7\u001b[0m     \u001b[0mroot1\u001b[0m \u001b[0;34m=\u001b[0m \u001b[0;34m(\u001b[0m\u001b[0;34m-\u001b[0m\u001b[0mb\u001b[0m \u001b[0;34m+\u001b[0m \u001b[0mdiscRoot\u001b[0m\u001b[0;34m)\u001b[0m \u001b[0;34m/\u001b[0m \u001b[0;34m(\u001b[0m\u001b[0;36m2\u001b[0m \u001b[0;34m*\u001b[0m \u001b[0ma\u001b[0m\u001b[0;34m)\u001b[0m\u001b[0;34m\u001b[0m\u001b[0;34m\u001b[0m\u001b[0m\n\u001b[1;32m      8\u001b[0m     \u001b[0mroot2\u001b[0m \u001b[0;34m=\u001b[0m \u001b[0;34m(\u001b[0m\u001b[0;34m-\u001b[0m\u001b[0mb\u001b[0m \u001b[0;34m-\u001b[0m \u001b[0mdiscRoot\u001b[0m\u001b[0;34m)\u001b[0m \u001b[0;34m/\u001b[0m \u001b[0;34m(\u001b[0m\u001b[0;36m2\u001b[0m \u001b[0;34m*\u001b[0m \u001b[0ma\u001b[0m\u001b[0;34m)\u001b[0m\u001b[0;34m\u001b[0m\u001b[0;34m\u001b[0m\u001b[0m\n",
      "\u001b[0;31mValueError\u001b[0m: math domain error"
     ]
    }
   ],
   "source": [
    "import math\n",
    "def main():\n",
    "    print(\"This program finds the real solutions to a quadratic\\n\")\n",
    "    a, b, c = eval(input(\"Please enter the coefficients (a, b, c): \"))\n",
    "    discrim = b * b - 4 * a * c if discrim < 0:\n",
    "    print(\"\\nThe equation has no real roots!\") elif discrim == 0:\n",
    "        root = -b / (2 * a)\n",
    "    print(\"\\nThere is a double root at\", root) else:\n",
    "    discRoot = math.sqrt(b * b - 4 * a * c) root1 = (-b + discRoot) / (2 * a)\n",
    "    root2 = (-b - discRoot) / (2 * a) print(\"\\nThe solutions are:\", root1, root2 )\n"
   ]
  },
  {
   "cell_type": "code",
   "execution_count": null,
   "metadata": {},
   "outputs": [],
   "source": []
  }
 ],
 "metadata": {
  "kernelspec": {
   "display_name": "Python 3",
   "language": "python",
   "name": "python3"
  },
  "language_info": {
   "codemirror_mode": {
    "name": "ipython",
    "version": 3
   },
   "file_extension": ".py",
   "mimetype": "text/x-python",
   "name": "python",
   "nbconvert_exporter": "python",
   "pygments_lexer": "ipython3",
   "version": "3.7.1"
  }
 },
 "nbformat": 4,
 "nbformat_minor": 2
}
