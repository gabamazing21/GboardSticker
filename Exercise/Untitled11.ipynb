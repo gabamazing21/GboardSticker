{
 "cells": [
  {
   "cell_type": "code",
   "execution_count": 5,
   "metadata": {},
   "outputs": [
    {
     "name": "stdout",
     "output_type": "stream",
     "text": [
      "['68pune.jpg', '45ithaca.jpg', '47london.jpg', '72bucharest.jpg', '97oakland.jpg', '.DS_Store', '89berkeley.jpg', '48sunnyvale.jpg', '93manchester.jpg', '4istanbul.jpg', '17cairo.jpg', '83gainesville.jpg', '72bangalore.jpg', '47singapore.jpg', '9barcelona.jpg', '35miami.jpg', '90beijing.jpg', '22rochester.jpg', '41seoul.jpg', '74tel aviv.jpg', '37athens.jpg', '45austin.jpg', '2chennai.jpg', '36sydney.jpg', '28houston.jpg', '2hyderabad.jpg', '73delhi.jpg', '54dallas.jpg', '47sao paulo.jpg', '50san diego.jpg', '64seattle.jpg', '16los angeles.jpg', '52new york.jpg', '61edinbrugh.jpg', '46colombo.jpg', '25madrid.jpg', '29buenos aires.jpg', '5bogota.jpg', '88jacksonville.jpg', '29bristol.jpg', '69shanghai.jpg', '96karachi.jpg', '69chicago.jpg', '66san jose.jpg', '55kiev.jpg']\n",
      "/Users/owner\n"
     ]
    }
   ],
   "source": [
    "import os\n",
    "def rename_file():\n",
    "    file_list = os.listdir(r\"/Users/owner/Downloads/prank\")\n",
    "    print(file_list)\n",
    "    saved_path=os.getcwd()''\n",
    "    os.chwdir(\"/Users/owner/Downloads/prank\")\n",
    "    for file_name in file_list:\n",
    "        os.rename(file_name,file.translate(None,\"1234567890\"))\n",
    "    os.chwdir(saved_path)\n",
    "rename_file()"
   ]
  },
  {
   "cell_type": "code",
   "execution_count": null,
   "metadata": {},
   "outputs": [],
   "source": []
  },
  {
   "cell_type": "code",
   "execution_count": null,
   "metadata": {},
   "outputs": [],
   "source": []
  }
 ],
 "metadata": {
  "kernelspec": {
   "display_name": "Python 3",
   "language": "python",
   "name": "python3"
  },
  "language_info": {
   "codemirror_mode": {
    "name": "ipython",
    "version": 3
   },
   "file_extension": ".py",
   "mimetype": "text/x-python",
   "name": "python",
   "nbconvert_exporter": "python",
   "pygments_lexer": "ipython3",
   "version": "3.7.1"
  }
 },
 "nbformat": 4,
 "nbformat_minor": 2
}
