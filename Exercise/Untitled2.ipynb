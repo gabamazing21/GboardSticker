{
 "cells": [
  {
   "cell_type": "code",
   "execution_count": 2,
   "metadata": {},
   "outputs": [
    {
     "name": "stdout",
     "output_type": "stream",
     "text": [
      "what is your name?\n",
      "serah\n",
      "Enter password:\n",
      "9999\n",
      "Access granted\n"
     ]
    }
   ],
   "source": [
    "print('what is your name?')\n",
    "name1=str(input())\n",
    "print('Enter password:')\n",
    "password = int(input())\n",
    "if name1== 'serah'and password ==9999:\n",
    "     print('Access granted')\n",
    "else:\n",
    "    print('Access denied')"
   ]
  },
  {
   "cell_type": "code",
   "execution_count": 6,
   "metadata": {},
   "outputs": [
    {
     "name": "stdout",
     "output_type": "stream",
     "text": [
      "serah\n",
      "Enter password: \n",
      "9999\n",
      "Access denied\n"
     ]
    }
   ],
   "source": [
    "name1=str(input())\n",
    "print('Enter password:')\n",
    "password = int(input())\n",
    "if name1== 'serah'and password =='9999':\n",
    "     print('Access granted')\n",
    "else:\n",
    "    print('Access denied')"
   ]
  },
  {
   "cell_type": "code",
   "execution_count": 3,
   "metadata": {},
   "outputs": [
    {
     "ename": "SyntaxError",
     "evalue": "invalid syntax (<ipython-input-3-79772b8dfa69>, line 4)",
     "output_type": "error",
     "traceback": [
      "\u001b[0;36m  File \u001b[0;32m\"<ipython-input-3-79772b8dfa69>\"\u001b[0;36m, line \u001b[0;32m4\u001b[0m\n\u001b[0;31m    elif score<=69 and score>=60:\u001b[0m\n\u001b[0m       ^\u001b[0m\n\u001b[0;31mSyntaxError\u001b[0m\u001b[0;31m:\u001b[0m invalid syntax\n"
     ]
    }
   ],
   "source": [
    "score = input()\n",
    "if score>=70 and score<=100:\n",
    "    print('A')\n",
    "    elif score<=69 and score>=60:\n",
    "        print('B')\n",
    "        elif\n",
    "        else:\n",
    "            print('wrong input')"
   ]
  },
  {
   "cell_type": "code",
   "execution_count": null,
   "metadata": {},
   "outputs": [],
   "source": []
  },
  {
   "cell_type": "code",
   "execution_count": null,
   "metadata": {},
   "outputs": [],
   "source": []
  },
  {
   "cell_type": "code",
   "execution_count": null,
   "metadata": {},
   "outputs": [],
   "source": []
  }
 ],
 "metadata": {
  "kernelspec": {
   "display_name": "Python 3",
   "language": "python",
   "name": "python3"
  },
  "language_info": {
   "codemirror_mode": {
    "name": "ipython",
    "version": 3
   },
   "file_extension": ".py",
   "mimetype": "text/x-python",
   "name": "python",
   "nbconvert_exporter": "python",
   "pygments_lexer": "ipython3",
   "version": "3.7.1"
  }
 },
 "nbformat": 4,
 "nbformat_minor": 2
}
