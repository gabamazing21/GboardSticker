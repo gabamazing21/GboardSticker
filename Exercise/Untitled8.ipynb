{
 "cells": [
  {
   "cell_type": "code",
   "execution_count": 1,
   "metadata": {},
   "outputs": [
    {
     "name": "stdout",
     "output_type": "stream",
     "text": [
      "This program started onFri Jun 28 14:48:10 2019\n"
     ]
    }
   ],
   "source": [
    "import time\n",
    "import webbrowser\n",
    "break_count=0\n",
    "total_break=3\n",
    "\n",
    "print(\"This program started on\"+time.ctime())\n",
    "while break_count<total_break:\n",
    "    time.sleep(10)\n",
    "    webbrowser.open(\"http://www.youtube.com/watch?v=dQw4w9WgXcQ\")\n",
    "    break_count +=1"
   ]
  },
  {
   "cell_type": "code",
   "execution_count": null,
   "metadata": {},
   "outputs": [],
   "source": []
  }
 ],
 "metadata": {
  "kernelspec": {
   "display_name": "Python 3",
   "language": "python",
   "name": "python3"
  },
  "language_info": {
   "codemirror_mode": {
    "name": "ipython",
    "version": 3
   },
   "file_extension": ".py",
   "mimetype": "text/x-python",
   "name": "python",
   "nbconvert_exporter": "python",
   "pygments_lexer": "ipython3",
   "version": "3.7.1"
  }
 },
 "nbformat": 4,
 "nbformat_minor": 2
}
