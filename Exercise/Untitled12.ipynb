{
 "cells": [
  {
   "cell_type": "code",
   "execution_count": 21,
   "metadata": {},
   "outputs": [
    {
     "name": "stdout",
     "output_type": "stream",
     "text": [
      "['68pune.jpg', '45ithaca.jpg', '47london.jpg', '72bucharest.jpg', '97oakland.jpg', '.DS_Store', '89berkeley.jpg', '48sunnyvale.jpg', '93manchester.jpg', '4istanbul.jpg', '17cairo.jpg', '83gainesville.jpg', '72bangalore.jpg', '47singapore.jpg', '9barcelona.jpg', '35miami.jpg', '90beijing.jpg', '22rochester.jpg', '41seoul.jpg', '74tel aviv.jpg', '37athens.jpg', '45austin.jpg', '2chennai.jpg', '36sydney.jpg', '28houston.jpg', '2hyderabad.jpg', '73delhi.jpg', '54dallas.jpg', '47sao paulo.jpg', '50san diego.jpg', '64seattle.jpg', '16los angeles.jpg', '52new york.jpg', '61edinbrugh.jpg', '46colombo.jpg', '25madrid.jpg', '29buenos aires.jpg', '5bogota.jpg', '88jacksonville.jpg', '29bristol.jpg', '69shanghai.jpg', '96karachi.jpg', '69chicago.jpg', '66san jose.jpg', '55kiev.jpg']\n",
      "Current Working Directory /Users/owner/Downloads/prank\n",
      "Old Name68pune.jpg\n",
      "New name68pune.jpg\n",
      "Old Name45ithaca.jpg\n",
      "New name45ithaca.jpg\n",
      "Old Name47london.jpg\n",
      "New name47london.jpg\n",
      "Old Name72bucharest.jpg\n",
      "New name72bucharest.jpg\n",
      "Old Name97oakland.jpg\n",
      "New name97oakland.jpg\n",
      "Old Name.DS_Store\n",
      "New name.DS_Store\n",
      "Old Name89berkeley.jpg\n",
      "New name89berkeley.jpg\n",
      "Old Name48sunnyvale.jpg\n",
      "New name48sunnyvale.jpg\n",
      "Old Name93manchester.jpg\n",
      "New name93manchester.jpg\n",
      "Old Name4istanbul.jpg\n",
      "New name4istanbul.jpg\n",
      "Old Name17cairo.jpg\n",
      "New name17cairo.jpg\n",
      "Old Name83gainesville.jpg\n",
      "New name83gainesville.jpg\n",
      "Old Name72bangalore.jpg\n",
      "New name72bangalore.jpg\n",
      "Old Name47singapore.jpg\n",
      "New name47singapore.jpg\n",
      "Old Name9barcelona.jpg\n",
      "New name9barcelona.jpg\n",
      "Old Name35miami.jpg\n",
      "New name35miami.jpg\n",
      "Old Name90beijing.jpg\n",
      "New name90beijing.jpg\n",
      "Old Name22rochester.jpg\n",
      "New name22rochester.jpg\n",
      "Old Name41seoul.jpg\n",
      "New name41seoul.jpg\n",
      "Old Name74tel aviv.jpg\n",
      "New name74tel aviv.jpg\n",
      "Old Name37athens.jpg\n",
      "New name37athens.jpg\n",
      "Old Name45austin.jpg\n",
      "New name45austin.jpg\n",
      "Old Name2chennai.jpg\n",
      "New name2chennai.jpg\n",
      "Old Name36sydney.jpg\n",
      "New name36sydney.jpg\n",
      "Old Name28houston.jpg\n",
      "New name28houston.jpg\n",
      "Old Name2hyderabad.jpg\n",
      "New name2hyderabad.jpg\n",
      "Old Name73delhi.jpg\n",
      "New name73delhi.jpg\n",
      "Old Name54dallas.jpg\n",
      "New name54dallas.jpg\n",
      "Old Name47sao paulo.jpg\n",
      "New name47sao paulo.jpg\n",
      "Old Name50san diego.jpg\n",
      "New name50san diego.jpg\n",
      "Old Name64seattle.jpg\n",
      "New name64seattle.jpg\n",
      "Old Name16los angeles.jpg\n",
      "New name16los angeles.jpg\n",
      "Old Name52new york.jpg\n",
      "New name52new york.jpg\n",
      "Old Name61edinbrugh.jpg\n",
      "New name61edinbrugh.jpg\n",
      "Old Name46colombo.jpg\n",
      "New name46colombo.jpg\n",
      "Old Name25madrid.jpg\n",
      "New name25madrid.jpg\n",
      "Old Name29buenos aires.jpg\n",
      "New name29buenos aires.jpg\n",
      "Old Name5bogota.jpg\n",
      "New name5bogota.jpg\n",
      "Old Name88jacksonville.jpg\n",
      "New name88jacksonville.jpg\n",
      "Old Name29bristol.jpg\n",
      "New name29bristol.jpg\n",
      "Old Name69shanghai.jpg\n",
      "New name69shanghai.jpg\n",
      "Old Name96karachi.jpg\n",
      "New name96karachi.jpg\n",
      "Old Name69chicago.jpg\n",
      "New name69chicago.jpg\n",
      "Old Name66san jose.jpg\n",
      "New name66san jose.jpg\n",
      "Old Name55kiev.jpg\n",
      "New name55kiev.jpg\n"
     ]
    }
   ],
   "source": [
    "import os\n",
    "def rename_file():\n",
    "    file_list=os.listdir(r\"/Users/owner/Downloads/prank\")\n",
    "    print(file_list)\n",
    "    saved_path=os.getcwd()\n",
    "    print(\"Current Working Directory \"+saved_path)\n",
    "    os.chdir(r\"/Users/owner/Downloads/prank\")\n",
    "    for file_name in file_list:\n",
    "        print(\"Old Name\"+file_name)\n",
    "        print(\"New name\"+file_name.translate(\"1234567890\"))\n",
    "        os.rename(file_name,file_name.translate(\"1234567890\"))\n",
    "    os.chdir(saved_path)\n",
    "    \n",
    "rename_file()"
   ]
  },
  {
   "cell_type": "code",
   "execution_count": 5,
   "metadata": {},
   "outputs": [
    {
     "ename": "AttributeError",
     "evalue": "module 'turtle' has no attribute 'Screen'",
     "output_type": "error",
     "traceback": [
      "\u001b[0;31m---------------------------------------------------------------------------\u001b[0m",
      "\u001b[0;31mAttributeError\u001b[0m                            Traceback (most recent call last)",
      "\u001b[0;32m<ipython-input-5-b310227e5a38>\u001b[0m in \u001b[0;36m<module>\u001b[0;34m\u001b[0m\n\u001b[0;32m----> 1\u001b[0;31m \u001b[0;32mimport\u001b[0m \u001b[0mturtle\u001b[0m\u001b[0;34m\u001b[0m\u001b[0;34m\u001b[0m\u001b[0m\n\u001b[0m\u001b[1;32m      2\u001b[0m \u001b[0;32mdef\u001b[0m \u001b[0mdraw_square\u001b[0m\u001b[0;34m(\u001b[0m\u001b[0msome_turtle\u001b[0m\u001b[0;34m)\u001b[0m\u001b[0;34m:\u001b[0m\u001b[0;34m\u001b[0m\u001b[0;34m\u001b[0m\u001b[0m\n\u001b[1;32m      3\u001b[0m     \u001b[0;32mfor\u001b[0m \u001b[0mi\u001b[0m \u001b[0;32min\u001b[0m \u001b[0mrange\u001b[0m\u001b[0;34m(\u001b[0m\u001b[0;36m1\u001b[0m\u001b[0;34m,\u001b[0m\u001b[0;36m5\u001b[0m\u001b[0;34m)\u001b[0m\u001b[0;34m:\u001b[0m\u001b[0;34m\u001b[0m\u001b[0;34m\u001b[0m\u001b[0m\n\u001b[1;32m      4\u001b[0m         \u001b[0msome_turtle\u001b[0m\u001b[0;34m.\u001b[0m\u001b[0mforward\u001b[0m\u001b[0;34m(\u001b[0m\u001b[0;36m100\u001b[0m\u001b[0;34m)\u001b[0m\u001b[0;34m\u001b[0m\u001b[0;34m\u001b[0m\u001b[0m\n\u001b[1;32m      5\u001b[0m         \u001b[0msome_turtle\u001b[0m\u001b[0;34m.\u001b[0m\u001b[0mright\u001b[0m\u001b[0;34m(\u001b[0m\u001b[0;36m90\u001b[0m\u001b[0;34m)\u001b[0m\u001b[0;34m\u001b[0m\u001b[0;34m\u001b[0m\u001b[0m\n",
      "\u001b[0;32m~/turtle.py\u001b[0m in \u001b[0;36m<module>\u001b[0;34m\u001b[0m\n\u001b[1;32m     25\u001b[0m     \u001b[0mwindow\u001b[0m\u001b[0;34m.\u001b[0m\u001b[0mexitonclick\u001b[0m\u001b[0;34m(\u001b[0m\u001b[0;34m)\u001b[0m\u001b[0;34m\u001b[0m\u001b[0;34m\u001b[0m\u001b[0m\n\u001b[1;32m     26\u001b[0m \u001b[0;34m\u001b[0m\u001b[0m\n\u001b[0;32m---> 27\u001b[0;31m \u001b[0mdraw_art\u001b[0m\u001b[0;34m(\u001b[0m\u001b[0;34m)\u001b[0m\u001b[0;34m\u001b[0m\u001b[0;34m\u001b[0m\u001b[0m\n\u001b[0m",
      "\u001b[0;32m~/turtle.py\u001b[0m in \u001b[0;36mdraw_art\u001b[0;34m()\u001b[0m\n\u001b[1;32m      6\u001b[0m \u001b[0;34m\u001b[0m\u001b[0m\n\u001b[1;32m      7\u001b[0m \u001b[0;32mdef\u001b[0m \u001b[0mdraw_art\u001b[0m\u001b[0;34m(\u001b[0m\u001b[0;34m)\u001b[0m\u001b[0;34m:\u001b[0m\u001b[0;34m\u001b[0m\u001b[0;34m\u001b[0m\u001b[0m\n\u001b[0;32m----> 8\u001b[0;31m     \u001b[0mwindow\u001b[0m \u001b[0;34m=\u001b[0m \u001b[0mturtle\u001b[0m\u001b[0;34m.\u001b[0m\u001b[0mScreen\u001b[0m\u001b[0;34m(\u001b[0m\u001b[0;34m)\u001b[0m\u001b[0;34m\u001b[0m\u001b[0;34m\u001b[0m\u001b[0m\n\u001b[0m\u001b[1;32m      9\u001b[0m     \u001b[0mwindow\u001b[0m\u001b[0;34m.\u001b[0m\u001b[0mbgcolor\u001b[0m\u001b[0;34m(\u001b[0m\u001b[0;34m\"red\"\u001b[0m\u001b[0;34m)\u001b[0m\u001b[0;34m\u001b[0m\u001b[0;34m\u001b[0m\u001b[0m\n\u001b[1;32m     10\u001b[0m \u001b[0;34m\u001b[0m\u001b[0m\n",
      "\u001b[0;31mAttributeError\u001b[0m: module 'turtle' has no attribute 'Screen'"
     ]
    }
   ],
   "source": []
  },
  {
   "cell_type": "code",
   "execution_count": null,
   "metadata": {},
   "outputs": [],
   "source": []
  },
  {
   "cell_type": "code",
   "execution_count": 6,
   "metadata": {},
   "outputs": [
    {
     "ename": "AttributeError",
     "evalue": "module 'turtle' has no attribute 'Screen'",
     "output_type": "error",
     "traceback": [
      "\u001b[0;31m---------------------------------------------------------------------------\u001b[0m",
      "\u001b[0;31mAttributeError\u001b[0m                            Traceback (most recent call last)",
      "\u001b[0;32m<ipython-input-6-b310227e5a38>\u001b[0m in \u001b[0;36m<module>\u001b[0;34m\u001b[0m\n\u001b[0;32m----> 1\u001b[0;31m \u001b[0;32mimport\u001b[0m \u001b[0mturtle\u001b[0m\u001b[0;34m\u001b[0m\u001b[0;34m\u001b[0m\u001b[0m\n\u001b[0m\u001b[1;32m      2\u001b[0m \u001b[0;32mdef\u001b[0m \u001b[0mdraw_square\u001b[0m\u001b[0;34m(\u001b[0m\u001b[0msome_turtle\u001b[0m\u001b[0;34m)\u001b[0m\u001b[0;34m:\u001b[0m\u001b[0;34m\u001b[0m\u001b[0;34m\u001b[0m\u001b[0m\n\u001b[1;32m      3\u001b[0m     \u001b[0;32mfor\u001b[0m \u001b[0mi\u001b[0m \u001b[0;32min\u001b[0m \u001b[0mrange\u001b[0m\u001b[0;34m(\u001b[0m\u001b[0;36m1\u001b[0m\u001b[0;34m,\u001b[0m\u001b[0;36m5\u001b[0m\u001b[0;34m)\u001b[0m\u001b[0;34m:\u001b[0m\u001b[0;34m\u001b[0m\u001b[0;34m\u001b[0m\u001b[0m\n\u001b[1;32m      4\u001b[0m         \u001b[0msome_turtle\u001b[0m\u001b[0;34m.\u001b[0m\u001b[0mforward\u001b[0m\u001b[0;34m(\u001b[0m\u001b[0;36m100\u001b[0m\u001b[0;34m)\u001b[0m\u001b[0;34m\u001b[0m\u001b[0;34m\u001b[0m\u001b[0m\n\u001b[1;32m      5\u001b[0m         \u001b[0msome_turtle\u001b[0m\u001b[0;34m.\u001b[0m\u001b[0mright\u001b[0m\u001b[0;34m(\u001b[0m\u001b[0;36m90\u001b[0m\u001b[0;34m)\u001b[0m\u001b[0;34m\u001b[0m\u001b[0;34m\u001b[0m\u001b[0m\n",
      "\u001b[0;32m~/turtle.py\u001b[0m in \u001b[0;36m<module>\u001b[0;34m\u001b[0m\n\u001b[1;32m     25\u001b[0m     \u001b[0mwindow\u001b[0m\u001b[0;34m.\u001b[0m\u001b[0mexitonclick\u001b[0m\u001b[0;34m(\u001b[0m\u001b[0;34m)\u001b[0m\u001b[0;34m\u001b[0m\u001b[0;34m\u001b[0m\u001b[0m\n\u001b[1;32m     26\u001b[0m \u001b[0;34m\u001b[0m\u001b[0m\n\u001b[0;32m---> 27\u001b[0;31m \u001b[0mdraw_art\u001b[0m\u001b[0;34m(\u001b[0m\u001b[0;34m)\u001b[0m\u001b[0;34m\u001b[0m\u001b[0;34m\u001b[0m\u001b[0m\n\u001b[0m",
      "\u001b[0;32m~/turtle.py\u001b[0m in \u001b[0;36mdraw_art\u001b[0;34m()\u001b[0m\n\u001b[1;32m      6\u001b[0m \u001b[0;34m\u001b[0m\u001b[0m\n\u001b[1;32m      7\u001b[0m \u001b[0;32mdef\u001b[0m \u001b[0mdraw_art\u001b[0m\u001b[0;34m(\u001b[0m\u001b[0;34m)\u001b[0m\u001b[0;34m:\u001b[0m\u001b[0;34m\u001b[0m\u001b[0;34m\u001b[0m\u001b[0m\n\u001b[0;32m----> 8\u001b[0;31m     \u001b[0mwindow\u001b[0m \u001b[0;34m=\u001b[0m \u001b[0mturtle\u001b[0m\u001b[0;34m.\u001b[0m\u001b[0mScreen\u001b[0m\u001b[0;34m(\u001b[0m\u001b[0;34m)\u001b[0m\u001b[0;34m\u001b[0m\u001b[0;34m\u001b[0m\u001b[0m\n\u001b[0m\u001b[1;32m      9\u001b[0m     \u001b[0mwindow\u001b[0m\u001b[0;34m.\u001b[0m\u001b[0mbgcolor\u001b[0m\u001b[0;34m(\u001b[0m\u001b[0;34m\"red\"\u001b[0m\u001b[0;34m)\u001b[0m\u001b[0;34m\u001b[0m\u001b[0;34m\u001b[0m\u001b[0m\n\u001b[1;32m     10\u001b[0m \u001b[0;34m\u001b[0m\u001b[0m\n",
      "\u001b[0;31mAttributeError\u001b[0m: module 'turtle' has no attribute 'Screen'"
     ]
    }
   ],
   "source": [
    "import turtle \n",
    "def draw_square(some_turtle):\n",
    "    for i in range(1,5):\n",
    "        some_turtle.forward(100)\n",
    "        some_turtle.right(90)\n",
    "    \n",
    "def draw_art():\n",
    "    window = turtle.Screen()\n",
    "    window.bgcolor(\"red\")\n",
    "    \n",
    "    # Create the turtle brad - draw a Square\n",
    "    \n",
    "    brad = turtle.Turtle()\n",
    "    brad.shape(\"turtle\")\n",
    "    brad.color(\"yellow\")\n",
    "    brad.speed(2)\n",
    "    draw_square(brad)\n",
    "    # Create the turtle Angle-draws a circle\n",
    "    angie = turtle.Turtle()\n",
    "    angie.shape(\"arrow\")\n",
    "    angie.color(\"blue\")\n",
    "    angie.circle(100)\n",
    "    \n",
    "    window.exitonclick()\n",
    "    \n",
    "draw_art()"
   ]
  },
  {
   "cell_type": "code",
   "execution_count": null,
   "metadata": {},
   "outputs": [],
   "source": []
  }
 ],
 "metadata": {
  "kernelspec": {
   "display_name": "Python 3",
   "language": "python",
   "name": "python3"
  },
  "language_info": {
   "codemirror_mode": {
    "name": "ipython",
    "version": 3
   },
   "file_extension": ".py",
   "mimetype": "text/x-python",
   "name": "python",
   "nbconvert_exporter": "python",
   "pygments_lexer": "ipython3",
   "version": "3.7.1"
  }
 },
 "nbformat": 4,
 "nbformat_minor": 2
}
