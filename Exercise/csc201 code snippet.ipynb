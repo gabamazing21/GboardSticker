{
 "cells": [
  {
   "cell_type": "code",
   "execution_count": 2,
   "metadata": {},
   "outputs": [
    {
     "name": "stdout",
     "output_type": "stream",
     "text": [
      "Enter first number: 5\n",
      "Enter second number: 6\n",
      "The sum of input numbers  is:  11.0\n"
     ]
    }
   ],
   "source": [
    "# To AddTwo Number from user input\n",
    "val1=float(input(\"Enter first number: \"))\n",
    "val2= float(input(\"Enter second number: \"))\n",
    "sum = val1 + val2\n",
    "print (\"The sum of input numbers  is: \",sum)"
   ]
  },
  {
   "cell_type": "code",
   "execution_count": 3,
   "metadata": {},
   "outputs": [
    {
     "name": "stdout",
     "output_type": "stream",
     "text": [
      "0b10010\n"
     ]
    }
   ],
   "source": [
    "#Program to add binary Number\n",
    "num1= '00001'\n",
    "num2='10001'\n",
    "sum= bin(int(num1,2)+int(num2,2))\n",
    "print(sum)\n",
    "\n"
   ]
  },
  {
   "cell_type": "code",
   "execution_count": 4,
   "metadata": {},
   "outputs": [
    {
     "name": "stdout",
     "output_type": "stream",
     "text": [
      "Enter the principal56\n",
      "Enter the rate78\n",
      "Enter the Time Taken56\n",
      "Simple Interest is:  2446.08\n"
     ]
    }
   ],
   "source": [
    "#Program to Calculate simple interest from User input\n",
    "P=int(input(\"Enter the principal\"))\n",
    "R=int(input(\"Enter the rate\"))\n",
    "T=int(input(\"Enter the Time Taken\"))\n",
    "SI=(P*R*T)/100\n",
    "print(\"Simple Interest is: \",SI)\n",
    "\n"
   ]
  },
  {
   "cell_type": "code",
   "execution_count": 5,
   "metadata": {},
   "outputs": [
    {
     "name": "stdout",
     "output_type": "stream",
     "text": [
      "Input the value of radius5\n",
      "The Area of the circle : 78.53981633974483\n"
     ]
    }
   ],
   "source": [
    "#Program to calculate Area of a circle\n",
    "import math\n",
    "pi=math.pi\n",
    "r=int(input(\"Input the value of radius\"))\n",
    "A=pi*(r*r)\n",
    "print(\"The Area of the circle :\",A)"
   ]
  },
  {
   "cell_type": "code",
   "execution_count": 6,
   "metadata": {},
   "outputs": [
    {
     "name": "stdout",
     "output_type": "stream",
     "text": [
      "Enter the principal45\n",
      "Enter the rate34\n",
      "Enter the Time Taken67\n",
      "Compound Interest :  14765018797.87928\n"
     ]
    }
   ],
   "source": [
    "#Porgram to Calculate Compound Interest\n",
    "P=int(input(\"Enter the principal\"))\n",
    "R=int(input(\"Enter the rate\"))\n",
    "T=int(input(\"Enter the Time Taken\"))\n",
    "CP=P*(pow((1+R/100),T))\n",
    "print(\"Compound Interest : \",CP)"
   ]
  },
  {
   "cell_type": "code",
   "execution_count": 7,
   "metadata": {},
   "outputs": [
    {
     "name": "stdout",
     "output_type": "stream",
     "text": [
      "The given angle is : 1.5707963267948966\n",
      "sin(X) is : 1.0\n",
      "cos(x) is : 6.123233995736766e-17\n",
      "tan(X) iS : 1.633123935319537e+16\n"
     ]
    }
   ],
   "source": [
    "#Use Of Trig Functions\n",
    "import math\n",
    "angleInDegree = 90\n",
    "angleInRadian=math.radians(angleInDegree)\n",
    "print(\"The given angle is :\",angleInRadian)\n",
    "print('sin(X) is :',math.sin(angleInRadian))\n",
    "print('cos(x) is :',math.cos(angleInRadian))\n",
    "print(\"tan(X) iS :\",math.tan(angleInRadian))\n",
    "\n",
    "\n"
   ]
  },
  {
   "cell_type": "code",
   "execution_count": 8,
   "metadata": {},
   "outputs": [
    {
     "name": "stdout",
     "output_type": "stream",
     "text": [
      "What is the celsius temperature ? 34\n",
      "The temperature is  93.2 degrees Fahrenheit. \n"
     ]
    }
   ],
   "source": [
    "#Program to convert Degree To fahreint\n",
    "def main():\n",
    "    celsius=eval(input(\"What is the celsius temperature ? \"))\n",
    "    fahrenheit = 9/5 * celsius +32\n",
    "    print(\"The temperature is \",fahrenheit, \"degrees Fahrenheit. \")\n",
    "if __name__=='__main__':\n",
    "    main()\n",
    "\n"
   ]
  },
  {
   "cell_type": "code",
   "execution_count": 9,
   "metadata": {},
   "outputs": [
    {
     "name": "stdout",
     "output_type": "stream",
     "text": [
      "Input the temperature in degrees 50\n",
      "The temperature is 122.0 degrees fahrenheit.\n",
      "It's really hot out there, be careful!\n"
     ]
    }
   ],
   "source": [
    "#Program to Warn Heat/COld Temp\n",
    "def temp_warn():\n",
    "        celsius= eval (input(\"Input the temperature in degrees \")) \n",
    "        fahrenheit = 9/5 * celsius +32 \n",
    "        print(\"The temperature is\", fahrenheit, \"degrees fahrenheit.\")\n",
    "        if fahrenheit >=90:\n",
    "            print(\"It's really hot out there, be careful!\")\n",
    "        if fahrenheit <=30:\n",
    "            print(\"Brrrrr. Be sure to dress warmly\")\n",
    "if __name__=='__main__':\n",
    "    temp_warn()"
   ]
  },
  {
   "cell_type": "code",
   "execution_count": 10,
   "metadata": {},
   "outputs": [
    {
     "name": "stdout",
     "output_type": "stream",
     "text": [
      "Enter yes or no :yes\n",
      "affirmative\n"
     ]
    }
   ],
   "source": [
    "#Program to test User Response on Decision Making\n",
    "def ask_ok(prompt):\n",
    "    OK = input(prompt)\n",
    "    OK = OK.lower()\n",
    "    if OK in ['y','ye','yes']:\n",
    "        return \"affirmative\"\n",
    "    if OK in ['n','no','nop','nope']:\n",
    "        return \"Negatory\"\n",
    "    if OK==\"\":\n",
    "        return \"Cat got your tongues\"\n",
    "    if OK:\n",
    "        return \"Your speaking gibberish, my friend\"\n",
    "    \n",
    "def main():\n",
    "    print(ask_ok(\"Enter yes or no :\"))\n",
    "if __name__=='__main__':\n",
    "    main()\n",
    "    "
   ]
  },
  {
   "cell_type": "code",
   "execution_count": 11,
   "metadata": {},
   "outputs": [
    {
     "name": "stdout",
     "output_type": "stream",
     "text": [
      "1050.0\n"
     ]
    }
   ],
   "source": [
    "#Conditional Program\n",
    "def addInterest(balance, rate):\n",
    "    newBalance = balance *(1+rate) \n",
    "    return newBalance\n",
    "def test():\n",
    "    amount = 1000\n",
    "    rate = 0.05\n",
    "    amount = addInterest(amount,rate)\n",
    "    print(amount)\n",
    "if __name__=='__main__':\n",
    "    test()"
   ]
  },
  {
   "cell_type": "code",
   "execution_count": 12,
   "metadata": {},
   "outputs": [
    {
     "name": "stdout",
     "output_type": "stream",
     "text": [
      "This program find solution to quadratic equation\n",
      " \n",
      " Please enter the coefficient (a, b, c): 1,-5,-10\n",
      "\n",
      " The solutions are: 6.531128874149275 -1.5311288741492746\n"
     ]
    }
   ],
   "source": [
    "#A program that computes the real roots of a quadratic equation.\n",
    "#    Note: This program crashes if the equation has no real roots.\n",
    "import math\n",
    "def main():\n",
    "    print(\"This program find solution to quadratic equation\")\n",
    "    a ,b , c= eval(input(\" \\n Please enter the coefficient (a, b, c): \"))\n",
    "    \n",
    "    discrim = b*b - 4 * a * c\n",
    "    \n",
    "    if discrim > 0:\n",
    "        \n",
    "        discRoot = math.sqrt(b*b - 4 * a * c)\n",
    "        \n",
    "        root1 = (-b + discRoot ) / (2 * a)\n",
    "        \n",
    "        root2 = (-b - discRoot ) / (2 * a)\n",
    "        \n",
    "        print(\"\\n The solutions are:\", root1 , root2)\n",
    "        \n",
    "    elif discrim == 0 :\n",
    "            root = -b / (2 * a)\n",
    "            print(\"\\nThere is a double root at\", root)\n",
    "    else :\n",
    "            discRoot = math.sqrt(b*b - 4 * a * c)\n",
    "            root1 = (-b + discRoot ) / (2 * a)\n",
    "            root2 = (-b - discRoot ) / (2 * a)\n",
    "            print(\"\\n The solutions are:\", root1 , root2)\n",
    "            print(\"\\n The solution has no real root\")\n",
    "            \n",
    "if __name__=='__main__':\n",
    "    main()"
   ]
  },
  {
   "cell_type": "code",
   "execution_count": 21,
   "metadata": {},
   "outputs": [
    {
     "name": "stdout",
     "output_type": "stream",
     "text": [
      "This program find solution to quadratic equation\n",
      "Please enter the coefficients (a, b, c): nmxdjfnjfndj\n",
      "\n",
      "You didn't enter three numbers.\n"
     ]
    }
   ],
   "source": [
    "#A program that computes the real roots of a quadratic equation.\n",
    "#  Note: This is wel protected by excptions handler\n",
    "import math\n",
    "def main():\n",
    "    print(\"This program find solution to quadratic equation\")\n",
    "    \n",
    "    \n",
    "    try:\n",
    "        a, b, c = eval(input(\"Please enter the coefficients (a, b, c): \"))\n",
    "        discRoot = math.sqrt(b*b - 4 * a * c)\n",
    "        root1 = (-b + discRoot ) / (2 * a)\n",
    "    \n",
    "        root2 = (-b - discRoot ) / (2 * a)\n",
    "        \n",
    "        print(\"\\n The solutions are:\", root1 , root2)\n",
    "        \n",
    "    except ValueError as excObj:\n",
    "        if str(excObj)==\"math domain error \":\n",
    "            print(\"No real root\")\n",
    "        else :\n",
    "            print(\"You didn't give me the right number of coefficients.\")\n",
    "    except NameError:\n",
    "        print(\"\\nYou didn't enter three numbers.\")\n",
    "    except TypeError:\n",
    "        print(\"\\nYour inputs were not all numbers.\")\n",
    "    except SytanxError:\n",
    "        print(\"\\nYour input was not in the correct form. Missing comma?\")\n",
    "    except :\n",
    "        print(\"\\nSomething went wrong, sorry!\")\n",
    "    finally:\n",
    "        print(\"Good day\")\n",
    "        \n",
    "            \n",
    "if __name__=='__main__':\n",
    "    main()"
   ]
  },
  {
   "cell_type": "code",
   "execution_count": 24,
   "metadata": {},
   "outputs": [
    {
     "name": "stdout",
     "output_type": "stream",
     "text": [
      "\n",
      " Enter  seperated by comma(a,b): 5,6\n",
      "The lenght of the parabola Segment : 13.669067129685109\n"
     ]
    }
   ],
   "source": [
    "#Assignment Set 2 Question 11\n",
    "import math\n",
    "def Len_Par():\n",
    "    h,b= eval(input(\"\\n Enter  seperated by comma(a,b): \"))\n",
    "    assert h>0\n",
    "    assert b>0\n",
    "    l = math.sqrt(4*h**2+b**2)+(b**2/(2*h))*math.log10((2*h+(math.sqrt(4*h**2+b**2)))/b)\n",
    "    print(\"The lenght of the parabola Segment :\",l)\n",
    "if __name__=='__main__':\n",
    "    Len_Par()\n"
   ]
  },
  {
   "cell_type": "code",
   "execution_count": 25,
   "metadata": {},
   "outputs": [
    {
     "name": "stdout",
     "output_type": "stream",
     "text": [
      "How many numbers we have? 5\n",
      "Enter a number >>4\n",
      "Enter a number >>5\n",
      "Enter a number >>6\n",
      "Enter a number >>7\n",
      "Enter a number >>6\n",
      "\n",
      " The average of number is  5.6\n"
     ]
    }
   ],
   "source": [
    "# A program to find the Average set of numbers\n",
    "# Illustrates counted loop with accumulatorde\n",
    "def main():\n",
    "    n = eval(input(\"How many numbers we have? \"))\n",
    "    sum = 0.0\n",
    "    for i in range(n):\n",
    "        X= eval(input(\"Enter a number >>\"))\n",
    "        sum = sum +X\n",
    "    print(\"\\n The average of number is \", sum/n)\n",
    "main()"
   ]
  },
  {
   "cell_type": "code",
   "execution_count": null,
   "metadata": {},
   "outputs": [],
   "source": [
    "\n",
    "    sum = 0.0\n",
    "    count =0\n",
    "    X = eval(input(\"Enter a number(negative to quite ) >>\"))\n",
    "    while x>=0:\n",
    "        sum = sum + X\n",
    "        count = count+1\n",
    "        moreData= input(\"Do You more numbers(yes or no)?\")\n",
    "    print(\"\\n The average of number is \", sum/n)\n",
    "    "
   ]
  },
  {
   "cell_type": "code",
   "execution_count": null,
   "metadata": {},
   "outputs": [],
   "source": []
  },
  {
   "cell_type": "code",
   "execution_count": null,
   "metadata": {},
   "outputs": [],
   "source": [
    "\n",
    "    sum = 0.0\n",
    "    count =0\n",
    "    X = eval(input(\"Enter a number(negative to quite ) >>\"))\n",
    "    while x>=0:\n",
    "        sum = sum + X\n",
    "        count = count+1\n",
    "        X= input(\"Do You more numbers(yes or no)?\")\n",
    "    print(\"\\n The average of number is \", sum/n)\n",
    "    "
   ]
  },
  {
   "cell_type": "code",
   "execution_count": 19,
   "metadata": {},
   "outputs": [
    {
     "name": "stdout",
     "output_type": "stream",
     "text": [
      "Enter number of rows: 10\n",
      "                                    1 \n",
      "                                 1      1 \n",
      "                              1      2      1 \n",
      "                           1      3      3      1 \n",
      "                        1      4      6      4      1 \n",
      "                     1      5     10     10      5      1 \n",
      "                  1      6     15     20     15      6      1 \n",
      "               1      7     21     35     35     21      7      1 \n",
      "            1      8     28     56     70     56     28      8      1 \n",
      "         1      9     36     84    126    126     84     36      9      1 \n"
     ]
    }
   ],
   "source": [
    "#Set 3 question 11\n",
    "n=int(input(\"Enter number of rows: \"))\n",
    "a=[]\n",
    "for i in range(n):\n",
    "    a.append([])\n",
    "    a[i].append(1)\n",
    "    for j in range(1,i):\n",
    "        a[i].append(a[i-1][j-1]+a[i-1][j])\n",
    "    if(n!=0):\n",
    "        a[i].append(1)\n",
    "for i in range(n):\n",
    "    print(\"   \"*(n-i),end=\" \",sep=\" \")\n",
    "    for j in range(0,i+1):\n",
    "        print('{0:6}'.format(a[i][j]),end=\" \",sep=\" \")\n",
    "    print()"
   ]
  },
  {
   "cell_type": "code",
   "execution_count": 17,
   "metadata": {},
   "outputs": [
    {
     "name": "stdout",
     "output_type": "stream",
     "text": [
      " sequence of number with seprated commas(a,b,c,d,e,f)1,2,3,4,5,6\n",
      "['1', '2', '3', '4', '5', '6']\n"
     ]
    }
   ],
   "source": [
    "#Set 4 questions 3\n",
    "a,b,c,d,e,f= eval(input(\" sequence of number with seprated commas(a,b,c,d,e,f)\"))\n",
    "num_seq=[]\n",
    "num_seq.extend([a,b,c,d,e,f])\n",
    "x=num_seq\n",
    "x=[str(i) for i in x]\n",
    "print(x)\n"
   ]
  },
  {
   "cell_type": "code",
   "execution_count": 15,
   "metadata": {},
   "outputs": [
    {
     "name": "stdout",
     "output_type": "stream",
     "text": [
      "['1.5', '2.5', '3.5', '4.55', '5.6']\n"
     ]
    }
   ],
   "source": [
    "x = [1.5, 2.5, 3.5, 4.55, 5.6]\n",
    "x = [str(i) for i in x]\n",
    "print(x)"
   ]
  },
  {
   "cell_type": "code",
   "execution_count": 17,
   "metadata": {},
   "outputs": [
    {
     "name": "stdout",
     "output_type": "stream",
     "text": [
      "Enter a number >>4\n",
      "Enter a number >>5\n",
      "Enter a number >>6\n",
      "Enter a number >>7\n",
      "Enter a number >>8\n",
      "Enter a number >>5\n",
      "Enter a number >>7\n",
      "\n",
      " The arithmetic_mean and geometric mean is :  1.0 5.852591176244288\n"
     ]
    }
   ],
   "source": [
    "#Set 3 question 14\n",
    "import numpy as np\n",
    "n=0\n",
    "mean=[]\n",
    "\n",
    "def geo_mean(iterable):\n",
    "    a = np.array(iterable)\n",
    "    return a.prod()**(1.0/len(a))\n",
    "\n",
    "while n<7:\n",
    "        number = eval(input(\"Enter a number >>\"))\n",
    "        n = n + 1\n",
    "        assert number>0\n",
    "        sum=0+number\n",
    "        mean.append(number)\n",
    "        \n",
    "        \n",
    "        \n",
    "if __name__ == '__main__':       \n",
    "    print(\"\\n The arithmetic_mean and geometric mean is : \",sum/7   , geo_mean(mean) )\n",
    "        "
   ]
  },
  {
   "cell_type": "code",
   "execution_count": 16,
   "metadata": {},
   "outputs": [
    {
     "name": "stdout",
     "output_type": "stream",
     "text": [
      "Enter (a,b,c) seperated by comma3,5,6\n",
      "Area of this triangle with this side is : 7.483314773547883\n"
     ]
    }
   ],
   "source": [
    "\n",
    "import math\n",
    "def Hero_formula():\n",
    "    a,b,c = eval(input(\"Enter (a,b,c) seperated by comma\"))\n",
    "    \n",
    "    if ((a>0) and (b>0) and (c>0)) and ((a+b>c)and (a+c>b) and (b+c>a)):\n",
    "        s = (a + b + c) / 2\n",
    "        area = math.sqrt(s * (s - a) * (s - b) * (s - c))\n",
    "        print(\"Area of this triangle with this side is :\", area)\n",
    "    else:\n",
    "        print(\"Wrong input please try again\")\n",
    "Hero_formula()"
   ]
  },
  {
   "cell_type": "code",
   "execution_count": 20,
   "metadata": {},
   "outputs": [
    {
     "data": {
      "text/plain": [
       "True"
      ]
     },
     "execution_count": 20,
     "metadata": {},
     "output_type": "execute_result"
    }
   ],
   "source": [
    "4!=3"
   ]
  },
  {
   "cell_type": "code",
   "execution_count": 21,
   "metadata": {},
   "outputs": [
    {
     "ename": "SyntaxError",
     "evalue": "invalid token (<ipython-input-21-18c5b58a1cfc>, line 1)",
     "output_type": "error",
     "traceback": [
      "\u001b[0;36m  File \u001b[0;32m\"<ipython-input-21-18c5b58a1cfc>\"\u001b[0;36m, line \u001b[0;32m1\u001b[0m\n\u001b[0;31m    a=00111100\u001b[0m\n\u001b[0m             ^\u001b[0m\n\u001b[0;31mSyntaxError\u001b[0m\u001b[0;31m:\u001b[0m invalid token\n"
     ]
    }
   ],
   "source": [
    "a=00111100\n",
    "~a"
   ]
  },
  {
   "cell_type": "code",
   "execution_count": 25,
   "metadata": {},
   "outputs": [
    {
     "name": "stdout",
     "output_type": "stream",
     "text": [
      "promptKing\n",
      "King\n"
     ]
    }
   ],
   "source": [
    "variablename =input(\"prompt\")\n",
    "print(variablename)\n"
   ]
  },
  {
   "cell_type": "code",
   "execution_count": 31,
   "metadata": {},
   "outputs": [
    {
     "data": {
      "text/plain": [
       "'Ade Kola'"
      ]
     },
     "execution_count": 31,
     "metadata": {},
     "output_type": "execute_result"
    }
   ],
   "source": [
    "class StudentClass:\n",
    "    \"This is a definition of student class\"\n",
    "    name = \"Ade Kola\"\n",
    "    number =\"CSC/2017/054\"\n",
    "    dept=\"Computer Science\"\n",
    "    \n",
    "    def output():\n",
    "        print(\"The name is\",name)\n",
    "        print(\"The number is\",number)\n",
    "        print(\"The department is \", dept)\n",
    "Astudent = StudentClass()\n",
    "Astudent.name\n",
    "\n"
   ]
  },
  {
   "cell_type": "code",
   "execution_count": 33,
   "metadata": {},
   "outputs": [
    {
     "name": "stdout",
     "output_type": "stream",
     "text": [
      "RegNo:  121  name:  Gabriel\n",
      "RegNo:  122  name:  Akin\n"
     ]
    }
   ],
   "source": [
    "class Student:\n",
    "    def __init__(self,regno,name):\n",
    "        self.regno = regno\n",
    "        self.name = name\n",
    "    def displayStudent(self):\n",
    "        print (\"RegNo: \",self.regno, \" name: \",  self.name)\n",
    "emp1= Student(121,\"Gabriel\")\n",
    "emp2= Student(122,\"Akin\")\n",
    "\n",
    "emp1.displayStudent()\n",
    "emp2.displayStudent()"
   ]
  },
  {
   "cell_type": "code",
   "execution_count": 40,
   "metadata": {},
   "outputs": [
    {
     "name": "stdout",
     "output_type": "stream",
     "text": [
      "Total Student is 50\n",
      " Name : Adeleke  Reg number CSC/2017/054 Department  Computer Science Student Age  19\n"
     ]
    }
   ],
   "source": [
    "class MyStudentClass:\n",
    "    \"Common base class for all students\"\n",
    "    stdCount = 0\n",
    "    def __init__(self, name , RegNo, Dept, Age):\n",
    "        self.name = name\n",
    "        self.RegNo = RegNo\n",
    "        self.Dept = Dept\n",
    "        self.Age = Age\n",
    "       # self.stdCount =20\n",
    "    def displayCount(self):\n",
    "        print(\"Total Student is\", 50)\n",
    "    def displayStudents(self):\n",
    "        print(\" Name :\" , self.name,\" Reg number\" , self.RegNo, \"Department \", self.Dept,\"Student Age \",self.Age)\n",
    "stud1 = MyStudentClass(\"Adeleke\",\"CSC/2017/054\",\"Computer Science\",19)\n",
    "stud1.displayCount()\n",
    "stud1.displayStudents()\n",
    "        "
   ]
  },
  {
   "cell_type": "code",
   "execution_count": 134,
   "metadata": {},
   "outputs": [
    {
     "ename": "TypeError",
     "evalue": "outPutGrade() takes 1 positional argument but 2 were given",
     "output_type": "error",
     "traceback": [
      "\u001b[0;31m---------------------------------------------------------------------------\u001b[0m",
      "\u001b[0;31mTypeError\u001b[0m                                 Traceback (most recent call last)",
      "\u001b[0;32m<ipython-input-134-0f6c09bc5fb7>\u001b[0m in \u001b[0;36m<module>\u001b[0;34m\u001b[0m\n\u001b[1;32m     55\u001b[0m \u001b[0;34m\u001b[0m\u001b[0m\n\u001b[1;32m     56\u001b[0m \u001b[0msky\u001b[0m \u001b[0;34m=\u001b[0m \u001b[0mTechStudentCsc201\u001b[0m\u001b[0;34m(\u001b[0m\u001b[0;34m\"SKY\"\u001b[0m\u001b[0;34m,\u001b[0m\u001b[0;34m\"19\"\u001b[0m\u001b[0;34m,\u001b[0m\u001b[0;36m78\u001b[0m\u001b[0;34m,\u001b[0m\u001b[0;36m69\u001b[0m\u001b[0;34m,\u001b[0m\u001b[0;36m60\u001b[0m\u001b[0;34m,\u001b[0m\u001b[0;36m40\u001b[0m\u001b[0;34m,\u001b[0m\u001b[0;36m60\u001b[0m\u001b[0;34m)\u001b[0m\u001b[0;34m\u001b[0m\u001b[0;34m\u001b[0m\u001b[0m\n\u001b[0;32m---> 57\u001b[0;31m \u001b[0msky\u001b[0m\u001b[0;34m.\u001b[0m\u001b[0mmathscore\u001b[0m\u001b[0;34m(\u001b[0m\u001b[0;34m)\u001b[0m\u001b[0;34m\u001b[0m\u001b[0;34m\u001b[0m\u001b[0m\n\u001b[0m\u001b[1;32m     58\u001b[0m \u001b[0msky\u001b[0m\u001b[0;34m.\u001b[0m\u001b[0mcscscore\u001b[0m\u001b[0;34m(\u001b[0m\u001b[0;34m)\u001b[0m\u001b[0;34m\u001b[0m\u001b[0;34m\u001b[0m\u001b[0m\n\u001b[1;32m     59\u001b[0m \u001b[0msky\u001b[0m\u001b[0;34m.\u001b[0m\u001b[0meeescore\u001b[0m\u001b[0;34m(\u001b[0m\u001b[0;34m)\u001b[0m\u001b[0;34m\u001b[0m\u001b[0;34m\u001b[0m\u001b[0m\n",
      "\u001b[0;32m<ipython-input-134-0f6c09bc5fb7>\u001b[0m in \u001b[0;36mmathscore\u001b[0;34m(self)\u001b[0m\n\u001b[1;32m     28\u001b[0m         \u001b[0mmathgrade\u001b[0m\u001b[0;34m=\u001b[0m\u001b[0mself\u001b[0m\u001b[0;34m.\u001b[0m\u001b[0mmth201\u001b[0m\u001b[0;34m\u001b[0m\u001b[0;34m\u001b[0m\u001b[0m\n\u001b[1;32m     29\u001b[0m         \u001b[0;32mglobal\u001b[0m \u001b[0mwhy\u001b[0m\u001b[0;34m\u001b[0m\u001b[0;34m\u001b[0m\u001b[0m\n\u001b[0;32m---> 30\u001b[0;31m         \u001b[0mwhy\u001b[0m\u001b[0;34m=\u001b[0m\u001b[0mself\u001b[0m\u001b[0;34m.\u001b[0m\u001b[0moutPutGrade\u001b[0m\u001b[0;34m(\u001b[0m\u001b[0mmathgrade\u001b[0m\u001b[0;34m)\u001b[0m\u001b[0;34m\u001b[0m\u001b[0;34m\u001b[0m\u001b[0m\n\u001b[0m\u001b[1;32m     31\u001b[0m \u001b[0;34m\u001b[0m\u001b[0m\n\u001b[1;32m     32\u001b[0m \u001b[0;34m\u001b[0m\u001b[0m\n",
      "\u001b[0;31mTypeError\u001b[0m: outPutGrade() takes 1 positional argument but 2 were given"
     ]
    }
   ],
   "source": [
    "class TechStudentCsc201:\n",
    "    def __init__(self, Name , Age, mth201,csc201,eee201,che201,mee205):\n",
    "        self.Name = Name\n",
    "        self.Age = Age\n",
    "        self.mth201=mth201\n",
    "        self.csc201=csc201\n",
    "        self.eee201=eee201\n",
    "        self.che201=che201\n",
    "        self.mee205=mee205\n",
    "        \n",
    "    def outPutGrade(self,grade):\n",
    "        point=0\n",
    "        if(grade>=70and grade<=100):\n",
    "            print(\"A\")\n",
    "        elif(grade>=60 and grade<=69):\n",
    "            print(\"B\" )\n",
    "        elif(grade>=50 and grade<=59):\n",
    "            print(\"C\")\n",
    "        elif(grade>=45 and grade<=49):\n",
    "            print(\"D\")\n",
    "        elif(grade>=40 and grade<=44):\n",
    "            print(\"E\")\n",
    "        elif(grade>=0 and grade<=40):\n",
    "            print(\"F\")\n",
    "        else:\n",
    "            print(\"Strange Grade..!!\")\n",
    "    def mathscore(self):\n",
    "        mathgrade=self.mth201\n",
    "        self.i=self.outPutGrade(mathgrade)\n",
    "        \n",
    "        \n",
    "    def cscscore(self):\n",
    "        cscgrade=self.csc201\n",
    "        self.j=self.outPutGrade(cscgrade)\n",
    "        \n",
    "        \n",
    "    def eeescore(self):\n",
    "        eeegrade = self.eee201\n",
    "        self.k=self.outPutGrade(eeegrade)\n",
    "        \n",
    "    def chescore(self):\n",
    "        chegrade=self.che201\n",
    "        self.m=self.outPutGrade(chegrade)\n",
    "    def meescore(self):\n",
    "        meegrade=self.mee205\n",
    "        self.outPutGrade(meegrade)\n",
    "    \n",
    "    \n",
    "        \n",
    "        \n",
    "sky = TechStudentCsc201(\"SKY\",\"19\",78,69,60,40,60)\n",
    "sky.mathscore()\n",
    "sky.cscscore()\n",
    "sky.eeescore()\n",
    "sky.chescore()\n",
    "sky.meescore()\n",
    "\n",
    "\n"
   ]
  },
  {
   "cell_type": "code",
   "execution_count": null,
   "metadata": {},
   "outputs": [],
   "source": [
    "\n",
    "classes= []\n",
    "grades = []\n",
    "\n",
    "#Collects the data of Class names and Grades in Letter Form\n",
    "def collect():\n",
    "    i = 0\n",
    "    while (i <= 5):\n",
    "        className = input(\"Enter Class Name: \")\n",
    "        classes.append(className)\n",
    "        i = i +1\n",
    "\n",
    "\n",
    "    print(classes)\n",
    "    y = 0\n",
    "    while (y <=5):\n",
    "        grade = input(\"Enter Your Grade For Each Class Listed in Order (Letter Form): \")\n",
    "        grade = grade.upper()\n",
    "        grades.append(grade)\n",
    "        y = y + 1\n",
    "    calculate()\n",
    "\n",
    "def calculate():\n",
    "    total= 0\n",
    "    for element in grades:\n",
    "        if element == \"A+\":\n",
    "            total = total + 4.0\n",
    "        elif element == \"A\":\n",
    "            total = total + 4.0\n",
    "        elif element == \"A-\":\n",
    "            total = total + 3.7\n",
    "        elif element == \"B+\":\n",
    "            total = total + 3.3\n",
    "        elif element == \"B\":\n",
    "            total = total + 3.0\n",
    "        elif element == \"B-\":\n",
    "            total = total + 2.7\n",
    "        elif element == \"C+\":\n",
    "            total = total + 2.3\n",
    "        elif element == \"C\":\n",
    "            total = total + 2.0\n",
    "        elif element == \"C-\":\n",
    "            total = total + 1.7\n",
    "        elif element == \"D\":\n",
    "            total = total + 1.0\n",
    "    gpa = total / 6\n",
    "    print(gpa)\n",
    "\n",
    "\n",
    "collect()"
   ]
  },
  {
   "cell_type": "code",
   "execution_count": null,
   "metadata": {},
   "outputs": [],
   "source": []
  },
  {
   "cell_type": "code",
   "execution_count": null,
   "metadata": {},
   "outputs": [],
   "source": [
    "class Student:\n",
    "    def __init__(self, name, age):\n",
    "        fname = name.strip()+\".txt\"\n",
    "        student_file = open(fname, 'w')\n",
    "        student_file.write(\"Name: %s \\n\" % (name))\n",
    "        student_file.write(\"Age: %d \\n\" % (age))\n",
    "        student_file.close()\n",
    "        \n",
    "        self.student_file = fname\n",
    "        self.name = name\n",
    "        self.age = age\n",
    "        self.total_number_of_units = 0\n",
    "        \n",
    "    def collect_raw_scores(self):\n",
    "        raw_scores = {}\n",
    "        while True:\n",
    "            course = input(\"Enter course or 'quit' to stop:\")\n",
    "            if (course == \"quit\"): \n",
    "                break\n",
    "            unit_weight = int(input(\"Enter unit weight of %s \"%(course)))\n",
    "            score = int(input(\"Enter score for %s: \"%(course)))\n",
    "            raw_scores.update({course: [unit_weight, score]})\n",
    "        with open(self.student_file, \"a\") as f:\n",
    "            f.write(\"\\n\")\n",
    "            print(raw_scores, file=f)\n",
    "        \n",
    "        return raw_scores\n",
    "    \n",
    "    def points_for_semester(self, semester_scores):\n",
    "        total_grade_points = 0\n",
    "        total_units = 0\n",
    "        for course,weight_and_score in semester_scores.items():\n",
    "            weight = weight_and_score[0]\n",
    "            score = weight_and_score[1]\n",
    "            total_units += weight\n",
    "            \n",
    "            if (0 <= score <= 39):\n",
    "                point = 0 * weight\n",
    "            elif (40 <= score <= 44):\n",
    "                point = 1 * weight\n",
    "            elif (45 <= score <= 49):\n",
    "                point = 2 * weight\n",
    "            elif (50 <= score <= 59):\n",
    "                point = 3 * weight\n",
    "            elif (60 <= score <= 69):\n",
    "                point = 4 * weight\n",
    "            elif (70 <= score <= 100):\n",
    "                point = 5 * weight\n",
    "            total_grade_points += point\n",
    "            \n",
    "            self.total_number_of_units += total_units\n",
    "            \n",
    "        return [total_grade_points, total_units]\n",
    "\n",
    "if __name__ == \"__main__\":\n",
    "    name = input(\"Enter Student's name: \")\n",
    "    age = int(input(\"Enter student's age\"))\n",
    "    \n",
    "    student = Student(name, age)\n",
    "    total_points = 0\n",
    "    total_units = 0\n",
    "    for i in range(0,6):\n",
    "        print(\"Collecting data for Semester '%d':\\n\"%(i+1))\n",
    "        semester_scores = student.collect_raw_scores()\n",
    "        points_per_sem = student.points_for_semester(semester_scores)\n",
    "        total_points += points_per_sem[0]\n",
    "        total_units += points_per_sem[1]\n",
    "    \n",
    "    print(\"CGPA for %s is %f\" % (student.name, total_points/total_units))"
   ]
  },
  {
   "cell_type": "code",
   "execution_count": null,
   "metadata": {},
   "outputs": [],
   "source": []
  },
  {
   "cell_type": "code",
   "execution_count": null,
   "metadata": {},
   "outputs": [],
   "source": []
  }
 ],
 "metadata": {
  "kernelspec": {
   "display_name": "Python 3",
   "language": "python",
   "name": "python3"
  },
  "language_info": {
   "codemirror_mode": {
    "name": "ipython",
    "version": 3
   },
   "file_extension": ".py",
   "mimetype": "text/x-python",
   "name": "python",
   "nbconvert_exporter": "python",
   "pygments_lexer": "ipython3",
   "version": "3.7.1"
  }
 },
 "nbformat": 4,
 "nbformat_minor": 2
}
